{
 "cells": [
  {
   "cell_type": "markdown",
   "metadata": {},
   "source": [
    "## Installing NLTK Library for bangla language processing"
   ]
  },
  {
   "cell_type": "code",
   "execution_count": 1,
   "metadata": {
    "execution": {
     "iopub.execute_input": "2021-08-05T07:29:28.742877Z",
     "iopub.status.busy": "2021-08-05T07:29:28.742109Z",
     "iopub.status.idle": "2021-08-05T07:29:34.886958Z",
     "shell.execute_reply": "2021-08-05T07:29:34.885739Z",
     "shell.execute_reply.started": "2021-08-05T07:29:28.742754Z"
    }
   },
   "outputs": [
    {
     "name": "stdout",
     "output_type": "stream",
     "text": [
      "Requirement already satisfied: bnlp_toolkit in /opt/conda/lib/python3.7/site-packages (3.1.1)\n",
      "Requirement already satisfied: scipy in /opt/conda/lib/python3.7/site-packages (from bnlp_toolkit) (1.6.3)\n",
      "Requirement already satisfied: sentencepiece in /opt/conda/lib/python3.7/site-packages (from bnlp_toolkit) (0.1.96)\n",
      "Requirement already satisfied: nltk in /opt/conda/lib/python3.7/site-packages (from bnlp_toolkit) (3.2.4)\n",
      "Requirement already satisfied: gensim==4.0.1 in /opt/conda/lib/python3.7/site-packages (from bnlp_toolkit) (4.0.1)\n",
      "Requirement already satisfied: wasabi in /opt/conda/lib/python3.7/site-packages (from bnlp_toolkit) (0.8.2)\n",
      "Requirement already satisfied: numpy in /opt/conda/lib/python3.7/site-packages (from bnlp_toolkit) (1.19.5)\n",
      "Requirement already satisfied: sklearn-crfsuite in /opt/conda/lib/python3.7/site-packages (from bnlp_toolkit) (0.3.6)\n",
      "Requirement already satisfied: smart-open>=1.8.1 in /opt/conda/lib/python3.7/site-packages (from gensim==4.0.1->bnlp_toolkit) (5.1.0)\n",
      "Requirement already satisfied: six in /opt/conda/lib/python3.7/site-packages (from nltk->bnlp_toolkit) (1.15.0)\n",
      "Requirement already satisfied: python-crfsuite>=0.8.3 in /opt/conda/lib/python3.7/site-packages (from sklearn-crfsuite->bnlp_toolkit) (0.9.7)\n",
      "Requirement already satisfied: tabulate in /opt/conda/lib/python3.7/site-packages (from sklearn-crfsuite->bnlp_toolkit) (0.8.9)\n",
      "Requirement already satisfied: tqdm>=2.0 in /opt/conda/lib/python3.7/site-packages (from sklearn-crfsuite->bnlp_toolkit) (4.61.1)\n",
      "\u001b[33mWARNING: Running pip as root will break packages and permissions. You should install packages reliably by using venv: https://pip.pypa.io/warnings/venv\u001b[0m\n"
     ]
    }
   ],
   "source": [
    "!pip install bnlp_toolkit"
   ]
  },
  {
   "cell_type": "code",
   "execution_count": 2,
   "metadata": {
    "execution": {
     "iopub.execute_input": "2021-08-05T07:29:34.890084Z",
     "iopub.status.busy": "2021-08-05T07:29:34.889567Z",
     "iopub.status.idle": "2021-08-05T07:29:35.728131Z",
     "shell.execute_reply": "2021-08-05T07:29:35.727023Z",
     "shell.execute_reply.started": "2021-08-05T07:29:34.890025Z"
    }
   },
   "outputs": [],
   "source": [
    "import pandas as pd\n",
    "import random\n",
    "import re,nltk,json, pickle\n",
    "from bnlp import NLTKTokenizer"
   ]
  },
  {
   "cell_type": "markdown",
   "metadata": {},
   "source": [
    "## Data reading for preprocess\n",
    "### dataset link: https://www.kaggle.com/furcifer/bangla-newspaper-dataset"
   ]
  },
  {
   "cell_type": "code",
   "execution_count": 78,
   "metadata": {
    "execution": {
     "iopub.execute_input": "2021-08-05T08:03:31.487649Z",
     "iopub.status.busy": "2021-08-05T08:03:31.487246Z",
     "iopub.status.idle": "2021-08-05T08:04:15.069273Z",
     "shell.execute_reply": "2021-08-05T08:04:15.068100Z",
     "shell.execute_reply.started": "2021-08-05T08:03:31.487616Z"
    }
   },
   "outputs": [],
   "source": [
    "df = pd.read_json('../input/bangla-newspaper-dataset/data_v2/data_v2.json')"
   ]
  },
  {
   "cell_type": "code",
   "execution_count": 80,
   "metadata": {
    "execution": {
     "iopub.execute_input": "2021-08-05T08:04:25.070911Z",
     "iopub.status.busy": "2021-08-05T08:04:25.070550Z",
     "iopub.status.idle": "2021-08-05T08:04:25.234558Z",
     "shell.execute_reply": "2021-08-05T08:04:25.233480Z",
     "shell.execute_reply.started": "2021-08-05T08:04:25.070878Z"
    }
   },
   "outputs": [
    {
     "data": {
      "text/html": [
       "<div>\n",
       "<style scoped>\n",
       "    .dataframe tbody tr th:only-of-type {\n",
       "        vertical-align: middle;\n",
       "    }\n",
       "\n",
       "    .dataframe tbody tr th {\n",
       "        vertical-align: top;\n",
       "    }\n",
       "\n",
       "    .dataframe thead th {\n",
       "        text-align: right;\n",
       "    }\n",
       "</style>\n",
       "<table border=\"1\" class=\"dataframe\">\n",
       "  <thead>\n",
       "    <tr style=\"text-align: right;\">\n",
       "      <th></th>\n",
       "      <th>author</th>\n",
       "      <th>category</th>\n",
       "      <th>category_bn</th>\n",
       "      <th>published_date</th>\n",
       "      <th>modification_date</th>\n",
       "      <th>tag</th>\n",
       "      <th>comment_count</th>\n",
       "      <th>title</th>\n",
       "      <th>url</th>\n",
       "      <th>content</th>\n",
       "      <th>id</th>\n",
       "    </tr>\n",
       "  </thead>\n",
       "  <tbody>\n",
       "    <tr>\n",
       "      <th>0</th>\n",
       "      <td>গাজীপুর প্রতিনিধি</td>\n",
       "      <td>bangladesh</td>\n",
       "      <td>বাংলাদেশ</td>\n",
       "      <td>০৪ জুলাই ২০১৩, ২৩:২৬</td>\n",
       "      <td>০৪ জুলাই ২০১৩, ২৩:২৭</td>\n",
       "      <td>[গাজীপুর]</td>\n",
       "      <td>0</td>\n",
       "      <td>কালিয়াকৈরে টিফিন খেয়ে ৫০০ শ্রমিক অসুস্থ, বিক...</td>\n",
       "      <td>http://www.prothom-alo.com/bangladesh/article/...</td>\n",
       "      <td>গাজীপুরের কালিয়াকৈর উপজেলার তেলিরচালা এলাকায়...</td>\n",
       "      <td>0</td>\n",
       "    </tr>\n",
       "    <tr>\n",
       "      <th>1</th>\n",
       "      <td>অনলাইন ডেস্ক</td>\n",
       "      <td>sports</td>\n",
       "      <td>খেলা</td>\n",
       "      <td>০৪ জুলাই ২০১৩, ২৩:০৯</td>\n",
       "      <td>০৪ জুলাই ২০১৩, ২৩:১১</td>\n",
       "      <td>[টেনিস]</td>\n",
       "      <td>0</td>\n",
       "      <td>সেমিফাইনাল বাধাও পেরিয়ে গেলেন লিসিকি</td>\n",
       "      <td>http://www.prothom-alo.com/sports/article/19028</td>\n",
       "      <td>এবারের উইম্বলডনটা স্মরণীয় করে রাখার মিশনেই যে...</td>\n",
       "      <td>1</td>\n",
       "    </tr>\n",
       "  </tbody>\n",
       "</table>\n",
       "</div>"
      ],
      "text/plain": [
       "              author    category category_bn        published_date  \\\n",
       "0  গাজীপুর প্রতিনিধি  bangladesh    বাংলাদেশ  ০৪ জুলাই ২০১৩, ২৩:২৬   \n",
       "1       অনলাইন ডেস্ক      sports        খেলা  ০৪ জুলাই ২০১৩, ২৩:০৯   \n",
       "\n",
       "      modification_date        tag comment_count  \\\n",
       "0  ০৪ জুলাই ২০১৩, ২৩:২৭  [গাজীপুর]             0   \n",
       "1  ০৪ জুলাই ২০১৩, ২৩:১১    [টেনিস]             0   \n",
       "\n",
       "                                               title  \\\n",
       "0  কালিয়াকৈরে টিফিন খেয়ে ৫০০ শ্রমিক অসুস্থ, বিক...   \n",
       "1              সেমিফাইনাল বাধাও পেরিয়ে গেলেন লিসিকি   \n",
       "\n",
       "                                                 url  \\\n",
       "0  http://www.prothom-alo.com/bangladesh/article/...   \n",
       "1    http://www.prothom-alo.com/sports/article/19028   \n",
       "\n",
       "                                             content  id  \n",
       "0  গাজীপুরের কালিয়াকৈর উপজেলার তেলিরচালা এলাকায়...   0  \n",
       "1  এবারের উইম্বলডনটা স্মরণীয় করে রাখার মিশনেই যে...   1  "
      ]
     },
     "execution_count": 80,
     "metadata": {},
     "output_type": "execute_result"
    }
   ],
   "source": [
    "df['id'] = pd.Series([int(i) for i in range(0,len(df))])\n",
    "df.head(2)"
   ]
  },
  {
   "cell_type": "code",
   "execution_count": 82,
   "metadata": {
    "execution": {
     "iopub.execute_input": "2021-08-05T08:04:35.552846Z",
     "iopub.status.busy": "2021-08-05T08:04:35.552493Z",
     "iopub.status.idle": "2021-08-05T08:04:35.568915Z",
     "shell.execute_reply": "2021-08-05T08:04:35.567595Z",
     "shell.execute_reply.started": "2021-08-05T08:04:35.552806Z"
    }
   },
   "outputs": [
    {
     "data": {
      "text/html": [
       "<div>\n",
       "<style scoped>\n",
       "    .dataframe tbody tr th:only-of-type {\n",
       "        vertical-align: middle;\n",
       "    }\n",
       "\n",
       "    .dataframe tbody tr th {\n",
       "        vertical-align: top;\n",
       "    }\n",
       "\n",
       "    .dataframe thead th {\n",
       "        text-align: right;\n",
       "    }\n",
       "</style>\n",
       "<table border=\"1\" class=\"dataframe\">\n",
       "  <thead>\n",
       "    <tr style=\"text-align: right;\">\n",
       "      <th></th>\n",
       "      <th>author</th>\n",
       "      <th>category</th>\n",
       "      <th>category_bn</th>\n",
       "      <th>published_date</th>\n",
       "      <th>modification_date</th>\n",
       "      <th>tag</th>\n",
       "      <th>comment_count</th>\n",
       "      <th>title</th>\n",
       "      <th>url</th>\n",
       "      <th>content</th>\n",
       "      <th>id</th>\n",
       "    </tr>\n",
       "  </thead>\n",
       "  <tbody>\n",
       "    <tr>\n",
       "      <th>0</th>\n",
       "      <td>গাজীপুর প্রতিনিধি</td>\n",
       "      <td>bangladesh</td>\n",
       "      <td>বাংলাদেশ</td>\n",
       "      <td>০৪ জুলাই ২০১৩, ২৩:২৬</td>\n",
       "      <td>০৪ জুলাই ২০১৩, ২৩:২৭</td>\n",
       "      <td>[গাজীপুর]</td>\n",
       "      <td>0</td>\n",
       "      <td>কালিয়াকৈরে টিফিন খেয়ে ৫০০ শ্রমিক অসুস্থ, বিক...</td>\n",
       "      <td>http://www.prothom-alo.com/bangladesh/article/...</td>\n",
       "      <td>গাজীপুরের কালিয়াকৈর উপজেলার তেলিরচালা এলাকায়...</td>\n",
       "      <td>0</td>\n",
       "    </tr>\n",
       "  </tbody>\n",
       "</table>\n",
       "</div>"
      ],
      "text/plain": [
       "              author    category category_bn        published_date  \\\n",
       "0  গাজীপুর প্রতিনিধি  bangladesh    বাংলাদেশ  ০৪ জুলাই ২০১৩, ২৩:২৬   \n",
       "\n",
       "      modification_date        tag comment_count  \\\n",
       "0  ০৪ জুলাই ২০১৩, ২৩:২৭  [গাজীপুর]             0   \n",
       "\n",
       "                                               title  \\\n",
       "0  কালিয়াকৈরে টিফিন খেয়ে ৫০০ শ্রমিক অসুস্থ, বিক...   \n",
       "\n",
       "                                                 url  \\\n",
       "0  http://www.prothom-alo.com/bangladesh/article/...   \n",
       "\n",
       "                                             content  id  \n",
       "0  গাজীপুরের কালিয়াকৈর উপজেলার তেলিরচালা এলাকায়...   0  "
      ]
     },
     "execution_count": 82,
     "metadata": {},
     "output_type": "execute_result"
    }
   ],
   "source": [
    "df.head(1)"
   ]
  },
  {
   "cell_type": "markdown",
   "metadata": {},
   "source": [
    "## News headline and content text processing"
   ]
  },
  {
   "cell_type": "code",
   "execution_count": 83,
   "metadata": {
    "execution": {
     "iopub.execute_input": "2021-08-05T08:04:53.276839Z",
     "iopub.status.busy": "2021-08-05T08:04:53.276427Z",
     "iopub.status.idle": "2021-08-05T08:04:53.288437Z",
     "shell.execute_reply": "2021-08-05T08:04:53.287250Z",
     "shell.execute_reply.started": "2021-08-05T08:04:53.276802Z"
    }
   },
   "outputs": [],
   "source": [
    "def cleaning_headline(title):\n",
    "    # remove brackets and contents inside this\n",
    "    content = re.sub(\"[\\(\\[].*?[\\)\\]]\", \"\", title)\n",
    "    # removing unnecessary punctuation\n",
    "    content = re.sub('[^\\u0980-\\u09FF]',' ',str(content))\n",
    "    k = content.split(\" \")\n",
    "    if len(k)<=3:\n",
    "        content=\"\"\n",
    "    return content\n",
    "    \n",
    "    \n",
    "def cleaning_documents(content):\n",
    "    # remove brackets and contents inside this\n",
    "    content = re.sub(\"[\\(\\[].*?[\\)\\]]\", \"\", content)\n",
    "    bnltk = NLTKTokenizer()\n",
    "    \n",
    "    k = content.split(\" \")\n",
    "    if len(k)<=10:\n",
    "        content=\"\"\n",
    "        return content\n",
    "\n",
    "    sentence_tokens = bnltk.sentence_tokenize(content)\n",
    "    sentence_tokens = [item for item in sentence_tokens if len(item)>4]\n",
    "\n",
    "    if len(sentence_tokens)<20:\n",
    "        n_split = 3\n",
    "    elif len(sentence_tokens)>20 and len(sentence_tokens)<150:\n",
    "        n_split = 5\n",
    "    elif len(sentence_tokens)>150 and len(sentence_tokens)<500:\n",
    "        n_split = 10\n",
    "    elif len(sentence_tokens)>500:\n",
    "        n_split = 20\n",
    "    else:\n",
    "        n_split = 1\n",
    "\n",
    "    text=\"\"\n",
    "#     print(n_split)\n",
    "    cnt=0\n",
    "    for i in range(len(sentence_tokens)):\n",
    "#         global cnt\n",
    "        sentence = sentence_tokens[i]\n",
    "        if len(sentence)<5:\n",
    "            pass\n",
    "        news = sentence.replace('\\n',' ')\n",
    "        news = re.sub('[^\\u0980-\\u09FF]',' ',str(news)) #removing unnecessary punctuation\n",
    "        \n",
    "        text = text + news + \" <EOS> \"\n",
    "          \n",
    "        if ((i+1)% n_split)==0 and i!=0:\n",
    "            cnt=cnt+1\n",
    "            text = text + \" <EOP> \"\n",
    "        if ((i+1)% n_split)!=0 and ((i+1)==len(sentence_tokens)):\n",
    "            cnt = cnt+1\n",
    "            text = text + \" <EOP> \"\n",
    "    if cnt<=2:\n",
    "        text=\"\"\n",
    "    return text"
   ]
  },
  {
   "cell_type": "code",
   "execution_count": 84,
   "metadata": {
    "execution": {
     "iopub.execute_input": "2021-08-05T08:04:55.831976Z",
     "iopub.status.busy": "2021-08-05T08:04:55.831596Z",
     "iopub.status.idle": "2021-08-05T08:04:55.868634Z",
     "shell.execute_reply": "2021-08-05T08:04:55.867584Z",
     "shell.execute_reply.started": "2021-08-05T08:04:55.831928Z"
    }
   },
   "outputs": [
    {
     "data": {
      "text/plain": [
       "('অ্যান্ড্রয়েডের বড় ত্রুটির খোঁজ', 'অ্যান্ড্রয়েডের বড় ত্রুটির খোঁজ')"
      ]
     },
     "execution_count": 84,
     "metadata": {},
     "output_type": "execute_result"
    }
   ],
   "source": [
    "cleaning_headline(df.title[5]),df.title[5]"
   ]
  },
  {
   "cell_type": "code",
   "execution_count": 85,
   "metadata": {
    "execution": {
     "iopub.execute_input": "2021-08-05T08:04:59.065819Z",
     "iopub.status.busy": "2021-08-05T08:04:59.065446Z",
     "iopub.status.idle": "2021-08-05T08:04:59.074563Z",
     "shell.execute_reply": "2021-08-05T08:04:59.073447Z",
     "shell.execute_reply.started": "2021-08-05T08:04:59.065783Z"
    }
   },
   "outputs": [
    {
     "data": {
      "text/plain": [
       "('গুগলের মোবাইল অপারেটিং সিস্টেম অ্যান্ড্রয়েডের বড় ধরনের ত্রুটির খোঁজ পেয়েছেন বলে দাবি করেছেন যুক্তরাষ্ট্রের প্রযুক্তি নিরাপত্তা গবেষণা প্রতিষ্ঠান ব্লুবক্সের গবেষকেরা  <EOS> গবেষকেরা বলছেন  অ্যান্ড্রয়েডের দুর্বলতা বা বাগ হিসেবে একটি  মাস্টার কী  এর খোঁজ পেয়েছেন তাঁরা  <EOS> এ সফটওয়্যার ত্রুটির কারণে সাইবার অপরাধীরা অ্যান্ড্রয়েড স্মার্টফোন থেকে তথ্য চুরি করতে পারে  <EOS>  <EOP> এক খবরে এ তথ্য জানিয়েছে বিবিসি অনলাইন  <EOS> গবেষকেদের দাবি  অ্যান্ড্রয়েড সফটওয়্যারের এই ত্রুটি ২০০৯ সালের পর থেকে উন্মুক্ত সব সংস্করণেই রয়েছে  <EOS> ক্রিপটোগ্রাফিক ভেরিফিকেশন প্রক্রিয়ার দুর্বলতার কারণেই অ্যান্ড্রয়েডে অতিরিক্ত ম্যালওয়্যারের আক্রমণ দেখা যায়  <EOS>  <EOP> ক্রিপটোগ্রাফিক ভেরিফিকেশন প্রক্রিয়ার মাধ্যমে বিভিন্ন অ্যাপ্লিকেশন পরীক্ষা করে দেখা হয়  <EOS> চলতি বছরের আগস্ট মাসে অনুষ্ঠিতব্য ব্ল্যাক হ্যাক হ্যাকারস সম্মেলনে অ্যান্ড্রয়েডের এ ত্রুটির বিস্তারিত জানানোর কথা জানিয়েছেন গবেষকেরা  <EOS> অ্যান্ড্রয়েডের সফটওয়্যার ত্রুটির বিষয়ে গুগল কর্তৃপক্ষ আনুষ্ঠানিকভাবে কোনো মন্তব্য করেনি  <EOS>  <EOP> ',\n",
       " 'গুগলের মোবাইল অপারেটিং সিস্টেম অ্যান্ড্রয়েডের বড় ধরনের ত্রুটির খোঁজ পেয়েছেন বলে দাবি করেছেন যুক্তরাষ্ট্রের প্রযুক্তি নিরাপত্তা গবেষণা প্রতিষ্ঠান ব্লুবক্সের গবেষকেরা। গবেষকেরা বলছেন, অ্যান্ড্রয়েডের দুর্বলতা বা বাগ হিসেবে একটি ‘মাস্টার কী’-এর খোঁজ পেয়েছেন তাঁরা। এ সফটওয়্যার ত্রুটির কারণে সাইবার অপরাধীরা অ্যান্ড্রয়েড স্মার্টফোন থেকে তথ্য চুরি করতে পারে। এক খবরে এ তথ্য জানিয়েছে বিবিসি অনলাইন।\\xa0গবেষকেদের দাবি, অ্যান্ড্রয়েড সফটওয়্যারের এই ত্রুটি ২০০৯ সালের পর থেকে উন্মুক্ত সব সংস্করণেই রয়েছে। ক্রিপটোগ্রাফিক ভেরিফিকেশন প্রক্রিয়ার দুর্বলতার কারণেই অ্যান্ড্রয়েডে অতিরিক্ত ম্যালওয়্যারের আক্রমণ দেখা যায়। ক্রিপটোগ্রাফিক ভেরিফিকেশন প্রক্রিয়ার মাধ্যমে বিভিন্ন অ্যাপ্লিকেশন পরীক্ষা করে দেখা হয়। \\xa0চলতি বছরের আগস্ট মাসে অনুষ্ঠিতব্য ব্ল্যাক হ্যাক হ্যাকারস সম্মেলনে অ্যান্ড্রয়েডের এ ত্রুটির বিস্তারিত জানানোর কথা জানিয়েছেন গবেষকেরা।\\xa0অ্যান্ড্রয়েডের সফটওয়্যার ত্রুটির বিষয়ে গুগল কর্তৃপক্ষ আনুষ্ঠানিকভাবে কোনো মন্তব্য করেনি।')"
      ]
     },
     "execution_count": 85,
     "metadata": {},
     "output_type": "execute_result"
    }
   ],
   "source": [
    "cleaning_documents(df.content[5]),df.content[5]"
   ]
  },
  {
   "cell_type": "code",
   "execution_count": 86,
   "metadata": {
    "execution": {
     "iopub.execute_input": "2021-08-05T08:05:08.143455Z",
     "iopub.status.busy": "2021-08-05T08:05:08.142853Z",
     "iopub.status.idle": "2021-08-05T08:11:32.286920Z",
     "shell.execute_reply": "2021-08-05T08:11:32.285774Z",
     "shell.execute_reply.started": "2021-08-05T08:05:08.143417Z"
    }
   },
   "outputs": [],
   "source": [
    "df['content'] = df.apply(lambda x: cleaning_documents(x['content']), axis=1)\n",
    "df['title'] = df.apply(lambda x: cleaning_headline(x['title']), axis=1)"
   ]
  },
  {
   "cell_type": "code",
   "execution_count": 87,
   "metadata": {
    "execution": {
     "iopub.execute_input": "2021-08-05T08:13:47.074539Z",
     "iopub.status.busy": "2021-08-05T08:13:47.074123Z",
     "iopub.status.idle": "2021-08-05T08:13:47.802338Z",
     "shell.execute_reply": "2021-08-05T08:13:47.801161Z",
     "shell.execute_reply.started": "2021-08-05T08:13:47.074504Z"
    }
   },
   "outputs": [
    {
     "name": "stdout",
     "output_type": "stream",
     "text": [
      "408471\n",
      "408471\n"
     ]
    }
   ],
   "source": [
    "print(len(df))\n",
    "df = df.dropna()\n",
    "print(len(df))"
   ]
  },
  {
   "cell_type": "code",
   "execution_count": 88,
   "metadata": {
    "execution": {
     "iopub.execute_input": "2021-08-05T08:13:51.539130Z",
     "iopub.status.busy": "2021-08-05T08:13:51.538743Z",
     "iopub.status.idle": "2021-08-05T08:13:52.256633Z",
     "shell.execute_reply": "2021-08-05T08:13:52.255504Z",
     "shell.execute_reply.started": "2021-08-05T08:13:51.539094Z"
    }
   },
   "outputs": [
    {
     "name": "stdout",
     "output_type": "stream",
     "text": [
      "408471\n",
      "277282\n"
     ]
    }
   ],
   "source": [
    "print(len(df))\n",
    "df = df.drop(df[df['content']==\"\"].index)\n",
    "df = df.drop(df[df['title']==\"\"].index)\n",
    "print(len(df))"
   ]
  },
  {
   "cell_type": "code",
   "execution_count": 89,
   "metadata": {
    "execution": {
     "iopub.execute_input": "2021-08-05T08:13:55.719667Z",
     "iopub.status.busy": "2021-08-05T08:13:55.719288Z",
     "iopub.status.idle": "2021-08-05T08:13:55.736919Z",
     "shell.execute_reply": "2021-08-05T08:13:55.735888Z",
     "shell.execute_reply.started": "2021-08-05T08:13:55.719630Z"
    }
   },
   "outputs": [
    {
     "data": {
      "text/plain": [
       "('যুক্তরাষ্ট্রের বাজারে জিএসপি সুবিধা বন্ধ হওয়া প্রসঙ্গে স্বরাষ্ট্রমন্ত্রী মহীউদ্দীন খান আলমগীর বলেছেন  জিএসপি সুবিধা বন্ধ হওয়াতে বাংলাদেশের তেমন কোনো ক্ষতি হবে না  <EOS> আজ বৃহস্পতিবার বিকেলে চাঁদপুরের মতলব দক্ষিণ উপজেলায় নবগঠিত নারায়ণপুর পৌরসভার কার্যক্রম উদ্বোধন করতে গিয়ে প্রধান অতিথির বক্তব্যে মন্ত্রী এ কথা বলেন  <EOS>  ওয়াশিংটন টাইমস  এ বিরোধীদলীয় নেতা ও বিএনপির চেয়ারপারসন খালেদা জিয়ার লেখা নিবন্ধ প্রসঙ্গে স্বরাষ্ট্রমন্ত্রী বলেন   বাংলাদেশ সম্পর্কে তিনি  দুষ্টু কথা বলেছেন  <EOS>  <EOP> কোনো নেত্রী যদি দেশের উন্নয়ন বা মঙ্গল চান  তাহলে এ ধরনের কথা বলতে পারেন না  <EOS> নিন্দাসূচক কথা বলে তিনি দেশের অমঙ্গল করেছেন   কিশোরগঞ্জে আওয়ামী লীগ প্রার্থীর বিজয় প্রসঙ্গে মন্ত্রী বলেন  নৌকা প্রতীকে ভোট হলেই আওয়ামী লীগের প্রার্থী বিপুল ভোটে নির্বাচিত হন  <EOS> কিশোরগঞ্জের উপনির্বাচনই তার প্রমাণ  <EOS>  <EOP> তিনি বলেন   আমরা নির্বাচনে হস্তক্ষেপ করিনি  তাই চার সিটি করপোরেশন নির্বাচনে গণতন্ত্রের বিজয় হয়েছে  <EOS> কাজেই চার সিটি নির্বাচনে আমাদের যে পরাজয়ের কথা বলা হয়েছে  তাতে আমরা পরাজিত হইনি   নারায়ণপুর পৌর আওয়ামী লীগের সভাপতি বজলুর রশিদ মজুমদারের সভাপতিত্বে বক্তব্য দেন চাঁদপুর ২ আসনের সাংসদ এম রফিকুল ইসলাম  কেন্দ্রীয় আওয়ামী লীগের নেতা নির্মল গোস্বামী  জেলা আওয়ামী লীগের সভাপতি শামসুল হক ভূঁইয়া  সাধারণ সম্পাদক আবু নঈম পাটওয়ারী দুলাল  মতলব দক্ষিণ উপজেলা আওয়ামী লীগের সভাপতি এইচ এম গিয়াস উদ্দিন প্রমুখ এর আগে মন্ত্রী নারায়ণপুর ডিগ্রি কলেজের আইসিটি ল্যাব ও বৃক্ষরোপণ কর্মসূচি  বিদ্যুত্ সরবরাহ লাইনের উদ্বোধন এবং কলেজ মাঠে আয়োজিত জনসভায় বক্তব্য দেন  <EOS>  <EOP> ',\n",
       " 'খালেদা দুষ্টু কথা বলেছেন  স্বরাষ্ট্রমন্ত্রী')"
      ]
     },
     "execution_count": 89,
     "metadata": {},
     "output_type": "execute_result"
    }
   ],
   "source": [
    "df.content[6],df.title[6]"
   ]
  },
  {
   "cell_type": "code",
   "execution_count": 90,
   "metadata": {
    "execution": {
     "iopub.execute_input": "2021-08-05T08:14:06.391019Z",
     "iopub.status.busy": "2021-08-05T08:14:06.390642Z",
     "iopub.status.idle": "2021-08-05T08:14:06.395345Z",
     "shell.execute_reply": "2021-08-05T08:14:06.394095Z",
     "shell.execute_reply.started": "2021-08-05T08:14:06.390984Z"
    }
   },
   "outputs": [],
   "source": [
    "# mask = (df['title'].str.len() <= 50) \n",
    "# df = df.loc[mask]\n",
    "# df.head(2)"
   ]
  },
  {
   "cell_type": "code",
   "execution_count": 33,
   "metadata": {
    "execution": {
     "iopub.execute_input": "2021-08-05T07:48:41.432502Z",
     "iopub.status.busy": "2021-08-05T07:48:41.432081Z",
     "iopub.status.idle": "2021-08-05T07:48:41.518919Z",
     "shell.execute_reply": "2021-08-05T07:48:41.517946Z",
     "shell.execute_reply.started": "2021-08-05T07:48:41.432468Z"
    }
   },
   "outputs": [],
   "source": []
  },
  {
   "cell_type": "code",
   "execution_count": 91,
   "metadata": {
    "execution": {
     "iopub.execute_input": "2021-08-05T08:14:09.908820Z",
     "iopub.status.busy": "2021-08-05T08:14:09.908460Z",
     "iopub.status.idle": "2021-08-05T08:14:09.926734Z",
     "shell.execute_reply": "2021-08-05T08:14:09.925454Z",
     "shell.execute_reply.started": "2021-08-05T08:14:09.908788Z"
    }
   },
   "outputs": [
    {
     "data": {
      "text/html": [
       "<div>\n",
       "<style scoped>\n",
       "    .dataframe tbody tr th:only-of-type {\n",
       "        vertical-align: middle;\n",
       "    }\n",
       "\n",
       "    .dataframe tbody tr th {\n",
       "        vertical-align: top;\n",
       "    }\n",
       "\n",
       "    .dataframe thead th {\n",
       "        text-align: right;\n",
       "    }\n",
       "</style>\n",
       "<table border=\"1\" class=\"dataframe\">\n",
       "  <thead>\n",
       "    <tr style=\"text-align: right;\">\n",
       "      <th></th>\n",
       "      <th>author</th>\n",
       "      <th>category</th>\n",
       "      <th>category_bn</th>\n",
       "      <th>published_date</th>\n",
       "      <th>modification_date</th>\n",
       "      <th>tag</th>\n",
       "      <th>comment_count</th>\n",
       "      <th>title</th>\n",
       "      <th>url</th>\n",
       "      <th>content</th>\n",
       "      <th>id</th>\n",
       "    </tr>\n",
       "  </thead>\n",
       "  <tbody>\n",
       "    <tr>\n",
       "      <th>0</th>\n",
       "      <td>গাজীপুর প্রতিনিধি</td>\n",
       "      <td>bangladesh</td>\n",
       "      <td>বাংলাদেশ</td>\n",
       "      <td>০৪ জুলাই ২০১৩, ২৩:২৬</td>\n",
       "      <td>০৪ জুলাই ২০১৩, ২৩:২৭</td>\n",
       "      <td>[গাজীপুর]</td>\n",
       "      <td>0</td>\n",
       "      <td>কালিয়াকৈরে টিফিন খেয়ে ৫০০ শ্রমিক অসুস্থ  বিক...</td>\n",
       "      <td>http://www.prothom-alo.com/bangladesh/article/...</td>\n",
       "      <td>গাজীপুরের কালিয়াকৈর উপজেলার তেলিরচালা এলাকায়...</td>\n",
       "      <td>0</td>\n",
       "    </tr>\n",
       "    <tr>\n",
       "      <th>1</th>\n",
       "      <td>অনলাইন ডেস্ক</td>\n",
       "      <td>sports</td>\n",
       "      <td>খেলা</td>\n",
       "      <td>০৪ জুলাই ২০১৩, ২৩:০৯</td>\n",
       "      <td>০৪ জুলাই ২০১৩, ২৩:১১</td>\n",
       "      <td>[টেনিস]</td>\n",
       "      <td>0</td>\n",
       "      <td>সেমিফাইনাল বাধাও পেরিয়ে গেলেন লিসিকি</td>\n",
       "      <td>http://www.prothom-alo.com/sports/article/19028</td>\n",
       "      <td>এবারের উইম্বলডনটা স্মরণীয় করে রাখার মিশনেই যে...</td>\n",
       "      <td>1</td>\n",
       "    </tr>\n",
       "  </tbody>\n",
       "</table>\n",
       "</div>"
      ],
      "text/plain": [
       "              author    category category_bn        published_date  \\\n",
       "0  গাজীপুর প্রতিনিধি  bangladesh    বাংলাদেশ  ০৪ জুলাই ২০১৩, ২৩:২৬   \n",
       "1       অনলাইন ডেস্ক      sports        খেলা  ০৪ জুলাই ২০১৩, ২৩:০৯   \n",
       "\n",
       "      modification_date        tag comment_count  \\\n",
       "0  ০৪ জুলাই ২০১৩, ২৩:২৭  [গাজীপুর]             0   \n",
       "1  ০৪ জুলাই ২০১৩, ২৩:১১    [টেনিস]             0   \n",
       "\n",
       "                                               title  \\\n",
       "0  কালিয়াকৈরে টিফিন খেয়ে ৫০০ শ্রমিক অসুস্থ  বিক...   \n",
       "1              সেমিফাইনাল বাধাও পেরিয়ে গেলেন লিসিকি   \n",
       "\n",
       "                                                 url  \\\n",
       "0  http://www.prothom-alo.com/bangladesh/article/...   \n",
       "1    http://www.prothom-alo.com/sports/article/19028   \n",
       "\n",
       "                                             content  id  \n",
       "0  গাজীপুরের কালিয়াকৈর উপজেলার তেলিরচালা এলাকায়...   0  \n",
       "1  এবারের উইম্বলডনটা স্মরণীয় করে রাখার মিশনেই যে...   1  "
      ]
     },
     "execution_count": 91,
     "metadata": {},
     "output_type": "execute_result"
    }
   ],
   "source": [
    "df.head(2)"
   ]
  },
  {
   "cell_type": "markdown",
   "metadata": {},
   "source": [
    "### Splitting data equally for congruent and incongruent data generation\n",
    "#### few sample data for generating incongruent data"
   ]
  },
  {
   "cell_type": "code",
   "execution_count": 92,
   "metadata": {
    "execution": {
     "iopub.execute_input": "2021-08-05T08:14:16.761702Z",
     "iopub.status.busy": "2021-08-05T08:14:16.761349Z",
     "iopub.status.idle": "2021-08-05T08:14:16.931898Z",
     "shell.execute_reply": "2021-08-05T08:14:16.930838Z",
     "shell.execute_reply.started": "2021-08-05T08:14:16.761671Z"
    }
   },
   "outputs": [],
   "source": [
    "congruent = df.iloc[:120000,:].reset_index()\n",
    "incongruent1 = df.iloc[120000:150000,:].reset_index()\n",
    "incongruent2 = df.iloc[150000:180000,:].reset_index()\n",
    "incongruent3 = df.iloc[180000:210000,:].reset_index()\n",
    "\n",
    "incongruent4 = df.iloc[210000:240000,:].reset_index()\n",
    "# incongruent5 = df.iloc[300000:330000,:].reset_index()\n",
    "# incongruent6 = df.iloc[330000:360000,:].reset_index()\n",
    "\n",
    "sample = df.iloc[240000:,:].reset_index()"
   ]
  },
  {
   "cell_type": "code",
   "execution_count": 93,
   "metadata": {
    "execution": {
     "iopub.execute_input": "2021-08-05T08:14:21.148048Z",
     "iopub.status.busy": "2021-08-05T08:14:21.146970Z",
     "iopub.status.idle": "2021-08-05T08:14:21.166882Z",
     "shell.execute_reply": "2021-08-05T08:14:21.163046Z",
     "shell.execute_reply.started": "2021-08-05T08:14:21.147999Z"
    }
   },
   "outputs": [
    {
     "data": {
      "text/plain": [
       "(120000, 30000, 30000, 30000, 30000, 37282)"
      ]
     },
     "execution_count": 93,
     "metadata": {},
     "output_type": "execute_result"
    }
   ],
   "source": [
    "len(congruent),len(incongruent1),len(incongruent2),len(incongruent3),len(incongruent4),len(sample)"
   ]
  },
  {
   "cell_type": "markdown",
   "metadata": {},
   "source": [
    "## incongruent data genaration randomly mixing paragraph from sample data"
   ]
  },
  {
   "cell_type": "code",
   "execution_count": 95,
   "metadata": {
    "execution": {
     "iopub.execute_input": "2021-08-05T08:14:47.155519Z",
     "iopub.status.busy": "2021-08-05T08:14:47.155133Z",
     "iopub.status.idle": "2021-08-05T08:14:47.161499Z",
     "shell.execute_reply": "2021-08-05T08:14:47.160666Z",
     "shell.execute_reply.started": "2021-08-05T08:14:47.155486Z"
    }
   },
   "outputs": [],
   "source": [
    "def paragramp_seperation(content):\n",
    "    content = content.split(\"<EOP>\")\n",
    "    content = [item for item in content if len(item)>4]\n",
    "    \n",
    "    x = []\n",
    "    for line in content:\n",
    "        no_space = line.strip()\n",
    "        x.insert(0, no_space)\n",
    "#     print(x)\n",
    "    return x\n",
    "    "
   ]
  },
  {
   "cell_type": "code",
   "execution_count": 96,
   "metadata": {
    "execution": {
     "iopub.execute_input": "2021-08-05T08:14:47.524446Z",
     "iopub.status.busy": "2021-08-05T08:14:47.524053Z",
     "iopub.status.idle": "2021-08-05T08:14:47.533746Z",
     "shell.execute_reply": "2021-08-05T08:14:47.532374Z",
     "shell.execute_reply.started": "2021-08-05T08:14:47.524408Z"
    }
   },
   "outputs": [],
   "source": [
    "def new_incongruent_preparation(content):\n",
    "    content = paragramp_seperation(content)\n",
    "#     print(len(content))\n",
    "#     print(content)\n",
    "    sample_content = sample['content'].sample(len(content))\n",
    "#     print(sample_content)\n",
    "    sample_content = sample_content.tolist() \n",
    "#     print(sample_content[0])\n",
    "    sample_content = ''.join(sample_content)\n",
    "    sample_para = paragramp_seperation(sample_content)\n",
    "    \n",
    "    n_len = len(content)\n",
    "    try:\n",
    "        n_replace = random.choice([i for i in range(1,n_len+1)])\n",
    "    except:\n",
    "        print(content)\n",
    "        print(n_len)\n",
    "    try:    \n",
    "        sample_para_index = random.sample(range(0, len(sample_para)), n_replace)\n",
    "        content_para_index = random.sample(range(0, len(content)), n_replace)\n",
    "    except:\n",
    "        print(\"2nd...\")\n",
    "        print(n_replace)\n",
    "        print(content)\n",
    "        print(sample_para)\n",
    "        \n",
    "    for i in range(0,n_replace):\n",
    "        s,c = sample_para_index[i],content_para_index[i]\n",
    "        content[c] = sample_para[s]\n",
    "        \n",
    "    content = [item+\" <EOP> \" for item in content]\n",
    "    content = ' '.join([str(elem) for elem in content])\n",
    "    k = random.choice([0,1,2,3])\n",
    "    if len(content_para_index)==0:\n",
    "        label=0\n",
    "    else:\n",
    "        label=1\n",
    "    return content,label,len(content_para_index),content_para_index,k"
   ]
  },
  {
   "cell_type": "code",
   "execution_count": 97,
   "metadata": {
    "execution": {
     "iopub.execute_input": "2021-08-05T08:14:50.676454Z",
     "iopub.status.busy": "2021-08-05T08:14:50.676026Z",
     "iopub.status.idle": "2021-08-05T08:14:50.687479Z",
     "shell.execute_reply": "2021-08-05T08:14:50.686188Z",
     "shell.execute_reply.started": "2021-08-05T08:14:50.676415Z"
    }
   },
   "outputs": [
    {
     "data": {
      "text/plain": [
       "(('জাতীয় নাগরিকপঞ্জি ও নাগরিকত্ব বিল নিয়ে আসামসহ উত্তর পূর্বাঞ্চলে বিজেপি কিছুটা ব্যাকফুটে  <EOS> পশ্চিমবঙ্গে বিজেপির উপস্থিতি নিঃসন্দেহে জোরালো  <EOS> নিশ্চিতভাবেই তারা ভোট পাবে বেশি  <EOS> কিন্তু ভোটের দিন বুথে বুথে তৃণমূল কংগ্রেসের সঙ্গে মোকাবিলা করার মতো সাংগঠনিক শক্তি কি বিজেপি আয়ত্ত করেছে  <EOS> এটাও বড় প্রশ্ন বিজেপি ভোট লড়ছে পুরোপুরি নরেন্দ্র মোদির নামে  <EOS> <EOP>  সহকারী পুলিশ সুপার  মো  <EOS> সামছুজ্জামান বলেন  ওসির বিরুদ্ধে লাঠিপেটার অভিযোগটি সত্য নয়  <EOS> অবরোধকারীরা পুলিশকে দেখেই উত্তেজিত হয়ে পড়ে  <EOS> <EOP>  ঢাকার বাড্ডা এলাকায় আধিপত্য বিস্তার  অটোরিকশা স্ট্যান্ড ও ডিশ ব্যবসায়ীদের কাছে চাঁদার ভাগ বাঁটোয়ারা নিয়ে বিরোধের জেরে খুন হন বাড্ডা আওয়ামী লীগের সাধারণ সম্পাদক মো  <EOS> ফরহাদ আলী  <EOS> তাঁর খুনের নির্দেশ দেন বিদেশে থাকা শীর্ষ সন্ত্রাসীরা আজ শনিবার সকালে ডিএমপি মিডিয়া সেন্টারে প্রেস ব্রিফিংয়ে এসব কথা জানান অতিরিক্ত পুলিশ কমিশনার মো  <EOS> আবদুল বাতেন ১৫ জুন জুমার নামাজের পর বাড্ডার পূর্বাঞ্চল ১ নম্বর লেনের বায়তুস সালাম জামে মসজিদের পাশে ফরহাদ আলীকে প্রকাশ্যে গুলি করে হত্যা করা হয় আবদুল বাতেন বলেন  ঢাকা মহানগর পুলিশের  গোয়েন্দা উত্তর বিভাগ বিশেষ অভিযান পরিচালনা করে ফরহাদ হত্যা মামলার মূল হোতাসহ পাঁচজনকে গ্রেপ্তার করে  <EOS> এ সময় তাদের কাছ থেকে চারটি বিদেশি আগ্নেয়াস্ত্র  চারটি ম্যাগাজিনসহ ১২টি গুলি উদ্ধার করা হয়  <EOS> <EOP>  সেখানে বলিউড তারকাদের সঙ্গে আরও উপস্থিত ছিলেন কিংবদন্তি সংগীতশিল্পী আশা ভোসলে অনুষ্ঠান শেষে বের হওয়ার জন্য হুড়োহুড়ি লেগে যায়  <EOS> এর মধ্যে রাত নয়টার দিকে পথ হারিয়ে ফেলেন এই বরেণ্য সংগীত তারকা  <EOS> ৮৫ বছর বয়সী কিংকর্তব্যবিমূঢ় আশা ভোসলে বুঝতে পারছিলেন না কোন দিকে যাবেন  <EOS> <EOP>  মূর্তিটি ফিরিয়ে দেওয়ার ব্যাপার নিয়েও আলোচনা হবে ভারতের ঐতিহ্যবাহী জিনিস খুঁজে বের করা ও ফিরিয়ে নেওয়ার বিষয়ে বিশ্বব্যাপী স্বেচ্ছাসেবী নেটওয়ার্ক হিসেবে কাজ করে ইন্ডিয়া প্রাইড প্রজেক্ট   <EOS> এই প্রতিষ্ঠানের সহপ্রতিষ্ঠাতা এস বিজয় কুমার বলেন  মূর্তিটি ফিরিয়ে নেওয়ার ব্যাপারে ভারত আনুষ্ঠানিকভাবে দাবি জানানোর প্রস্তুতি নিচ্ছে  <EOS> ভারত ও অস্ট্রেলিয়া কর্তৃপক্ষ এ নিয়ে আলোচনা করছে  <EOS> ভারতের পক্ষ থেকে ইতিমধ্যে প্রয়োজনীয় কাগজপত্র জমা দেওয়া হচ্ছে  <EOS> তবে আর্ট গ্যালারি কর্তৃপক্ষ দুই বছর আগে চুরির বিষয়টি জেনেও এত দিন কেন গোপন রেখেছিল এ নিয়ে প্রশ্ন তোলেন এস বিজয় কুমার  <EOS> <EOP>  বাণীতে তাঁরা মুসলিম উম্মাহর বৃহত্তর ঐক্য  দেশ জাতির কল্যাণ ও বিশ্বশান্তি কামনা করেছেন  <EOS> রাষ্ট্রপতি তাঁর বাণীতে বলেন  মানবজাতিকে আল্লাহ তাআলার বিশেষ অনুগ্রহ ও ক্ষমা লাভের অপার সুযোগ এনে দেয় পবিত্র রজনী  <EOS> প্রধানমন্ত্রী বলেন   আসুন  সব ধরনের কুসংস্কার  কূপমণ্ডূকতা পরিহার করে আমরা শান্তির ধর্ম ইসলামের চেতনাকে ব্যক্তি  সমাজ ও জাতীয় জীবনের সর্বস্তরে প্রতিষ্ঠা করি  এ ছাড়া বিএনপি  জাতীয় পার্টি  জামায়াতে ইসলামী  বিকল্পধারাসহ বিভিন্ন রাজনৈতিক দল ও সংগঠনের পক্ষ থেকেও শবে বরাত উপলক্ষে মোবারকবাদ জানানো হয়েছে  <EOS> <EOP> ',\n",
       "  1,\n",
       "  5,\n",
       "  [0, 3, 5, 4, 2],\n",
       "  0),\n",
       " 'মুন্সিগঞ্জের লৌহজং উপজেলায় কুমারভোগ এলাকায় বাসচাপায় গতকাল শুক্রবার এক নারী পথচারী নিহত হয়েছেন  <EOS> এ ঘটনায় বিক্ষুব্ধ জনতা ঢাকা মাওয়া মহাসড়কে অবরোধ করে  <EOS> একপর্যায়ে বিক্ষুব্ধ জনতার হামলায় লৌহজং থানার ভারপ্রাপ্ত কর্মকর্তা  মোল্লা জাকির হোসেন আহত হন নিহত পথচারীর নাম পারভিন আক্তার   <EOS>  <EOP> তিনি কুমারভোগ গ্রামের আবদুর রাজ্জাকের স্ত্রী  <EOS> তাঁর পৈতৃক বাড়ি শ্রীনগর উপজেলার মনষাপুর এলাকায় পুলিশ ও স্থানীয় সূত্র জানায়  গতকাল বেলা ১১টার দিকে শিমুলিয়া ঘাট থেকে ঢাকায় যাওয়ার পথে দোলা পরিবহনের বাস ঢাকা মাওয়া মহাসড়কে কুমারভোগ এলাকায় পারভিন আক্তারকে চাপা দিলে ঘটনাস্থলেই তাঁর মৃত্যু হয়  <EOS> এ ঘটনায় জনতা মহাসড়ক অবরোধ করে  <EOS>  <EOP> এদিকে খবর পেয়ে লৌহজং থানার ওসি মোল্লা জাকির হোসেন ও এএসআই মিজানুর রহমান মোটরসাইকেলে করে ঘটনাস্থলে যান  <EOS> এ সময় ওসি অবরোধকারীদের অবরোধ তুলে নেওয়ার কথা বললে তাঁর সঙ্গে অবরোধকারীদের তর্কাতর্কি হয়  <EOS> একপর্যায়ে অবরোধকারীরা ওসির ওপর চড়াও হন এবং তাঁকে মারধর করেন  <EOS>  <EOP> তাঁকে রাজধানীর জাতীয় অর্থোপেডিক হাসপাতাল ও পুনর্বাসন প্রতিষ্ঠানে  ভর্তি করা হয়েছে  <EOS> দুর্ঘটনার পর থেকে প্রায় আধা ঘণ্টা মহাসড়কে যান চলাচল বন্ধ ছিল কয়েকজন এলাকাবাসী বলেন  অবরোধ তুলে নেওয়ার জন্য ওসি এসে জনতাকে সরিয়ে দেওয়া চেষ্টা করেন  <EOS> একপর্যায়ে তিনি লাঠিপেটা করলে জনতা উত্তেজিত হয়ে পড়ে হামলার বিষয়ে জানতে ওসি মোল্লা জাকির হোসেনের মুঠোফোনে একাধিকবার কল করলেও তিনি ধরেননি  <EOS>  <EOP> সহকারী পুলিশ সুপার  মো  <EOS> সামছুজ্জামান বলেন  ওসির বিরুদ্ধে লাঠিপেটার অভিযোগটি সত্য নয়  <EOS> অবরোধকারীরা পুলিশকে দেখেই উত্তেজিত হয়ে পড়ে  <EOS>  <EOP> তারা ওসির ওপর হামলা করে  <EOS> হামলার খবর পেয়ে তিনি তাৎক্ষণিকভাবে ছুটে যান  <EOS> তিনি ওসিকে উদ্ধার করেন এবং জনতাকে বুঝিয়ে মহাসড়ক অবরোধ তুলে নেওয়ার ক্ষেত্রে ভূমিকা রাখেন সহকারী পুলিশ সুপার বলেন  নিহত পারভিনের পরিবারের পক্ষে মামলা দায়েরের প্রস্তুতি চলছে  <EOS>  <EOP> ',\n",
       " 'বাসচাপায় নারী নিহত ওসিকে মারধর')"
      ]
     },
     "execution_count": 97,
     "metadata": {},
     "output_type": "execute_result"
    }
   ],
   "source": [
    "new_incongruent_preparation(incongruent1.content[7]),incongruent1.content[7],incongruent1.title[7]"
   ]
  },
  {
   "cell_type": "code",
   "execution_count": null,
   "metadata": {},
   "outputs": [],
   "source": []
  },
  {
   "cell_type": "code",
   "execution_count": 98,
   "metadata": {
    "execution": {
     "iopub.execute_input": "2021-08-05T08:15:24.238232Z",
     "iopub.status.busy": "2021-08-05T08:15:24.237834Z",
     "iopub.status.idle": "2021-08-05T08:16:04.029407Z",
     "shell.execute_reply": "2021-08-05T08:16:04.028161Z",
     "shell.execute_reply.started": "2021-08-05T08:15:24.238199Z"
    }
   },
   "outputs": [
    {
     "name": "stderr",
     "output_type": "stream",
     "text": [
      "/opt/conda/lib/python3.7/site-packages/numpy/core/_asarray.py:83: VisibleDeprecationWarning: Creating an ndarray from ragged nested sequences (which is a list-or-tuple of lists-or-tuples-or ndarrays with different lengths or shapes) is deprecated. If you meant to do this, you must specify 'dtype=object' when creating the ndarray\n",
      "  return array(a, dtype, copy=False, order=order)\n"
     ]
    }
   ],
   "source": [
    "incongruent1['content'],incongruent1['label'],incongruent1['fake_para_len'],incongruent1['fake_para_index'],incongruent1['fake_type'] = zip(*incongruent1['content'].map(new_incongruent_preparation))\n",
    "new_incongruent1 = incongruent1[[ 'id', 'title', 'content', 'label', 'fake_para_len', 'fake_para_index', 'fake_type']]"
   ]
  },
  {
   "cell_type": "code",
   "execution_count": 99,
   "metadata": {
    "execution": {
     "iopub.execute_input": "2021-08-05T08:16:04.031295Z",
     "iopub.status.busy": "2021-08-05T08:16:04.031006Z",
     "iopub.status.idle": "2021-08-05T08:16:39.053682Z",
     "shell.execute_reply": "2021-08-05T08:16:39.052264Z",
     "shell.execute_reply.started": "2021-08-05T08:16:04.031266Z"
    }
   },
   "outputs": [],
   "source": [
    "incongruent2['content'],incongruent2['label'],incongruent2['fake_para_len'],incongruent2['fake_para_index'],incongruent2['fake_type'] = zip(*incongruent2['content'].map(new_incongruent_preparation))\n",
    "new_incongruent2 = incongruent2[[ 'id', 'title', 'content', 'label', 'fake_para_len', 'fake_para_index', 'fake_type']]"
   ]
  },
  {
   "cell_type": "code",
   "execution_count": 100,
   "metadata": {
    "execution": {
     "iopub.execute_input": "2021-08-05T08:16:39.056244Z",
     "iopub.status.busy": "2021-08-05T08:16:39.055912Z",
     "iopub.status.idle": "2021-08-05T08:17:13.351098Z",
     "shell.execute_reply": "2021-08-05T08:17:13.349915Z",
     "shell.execute_reply.started": "2021-08-05T08:16:39.056212Z"
    }
   },
   "outputs": [],
   "source": [
    "incongruent3['content'],incongruent3['label'],incongruent3['fake_para_len'],incongruent3['fake_para_index'],incongruent3['fake_type'] = zip(*incongruent3['content'].map(new_incongruent_preparation))\n",
    "new_incongruent3 = incongruent3[[ 'id', 'title', 'content', 'label', 'fake_para_len', 'fake_para_index', 'fake_type']]"
   ]
  },
  {
   "cell_type": "code",
   "execution_count": 101,
   "metadata": {
    "execution": {
     "iopub.execute_input": "2021-08-05T08:17:13.353007Z",
     "iopub.status.busy": "2021-08-05T08:17:13.352661Z",
     "iopub.status.idle": "2021-08-05T08:17:51.214381Z",
     "shell.execute_reply": "2021-08-05T08:17:51.213295Z",
     "shell.execute_reply.started": "2021-08-05T08:17:13.352962Z"
    }
   },
   "outputs": [],
   "source": [
    "incongruent4['content'],incongruent4['label'],incongruent4['fake_para_len'],incongruent4['fake_para_index'],incongruent4['fake_type'] = zip(*incongruent4['content'].map(new_incongruent_preparation))\n",
    "new_incongruent4 = incongruent4[[ 'id', 'title', 'content', 'label', 'fake_para_len', 'fake_para_index', 'fake_type']]"
   ]
  },
  {
   "cell_type": "code",
   "execution_count": null,
   "metadata": {
    "execution": {
     "iopub.execute_input": "2021-08-02T10:32:16.5444Z",
     "iopub.status.busy": "2021-08-02T10:32:16.544131Z",
     "iopub.status.idle": "2021-08-02T10:32:57.764643Z",
     "shell.execute_reply": "2021-08-02T10:32:57.763806Z",
     "shell.execute_reply.started": "2021-08-02T10:32:16.544373Z"
    }
   },
   "outputs": [],
   "source": [
    "# incongruent5['content'],incongruent5['label'],incongruent5['fake_para_len'],incongruent5['fake_para_index'],incongruent5['fake_type'] = zip(*incongruent5['content'].map(new_incongruent_preparation))\n",
    "# new_incongruent5 = incongruent5[[ 'id', 'title', 'content', 'label', 'fake_para_len', 'fake_para_index', 'fake_type']]"
   ]
  },
  {
   "cell_type": "code",
   "execution_count": null,
   "metadata": {
    "execution": {
     "iopub.execute_input": "2021-08-02T10:32:57.766224Z",
     "iopub.status.busy": "2021-08-02T10:32:57.765912Z",
     "iopub.status.idle": "2021-08-02T10:33:37.969126Z",
     "shell.execute_reply": "2021-08-02T10:33:37.968017Z",
     "shell.execute_reply.started": "2021-08-02T10:32:57.766193Z"
    }
   },
   "outputs": [],
   "source": [
    "# incongruent6['content'],incongruent6['label'],incongruent6['fake_para_len'],incongruent6['fake_para_index'],incongruent6['fake_type'] = zip(*incongruent6['content'].map(new_incongruent_preparation))\n",
    "# new_incongruent6 = incongruent6[[ 'id', 'title', 'content', 'label', 'fake_para_len', 'fake_para_index', 'fake_type']]"
   ]
  },
  {
   "cell_type": "code",
   "execution_count": 102,
   "metadata": {
    "execution": {
     "iopub.execute_input": "2021-08-05T08:17:51.218822Z",
     "iopub.status.busy": "2021-08-05T08:17:51.218483Z",
     "iopub.status.idle": "2021-08-05T08:17:51.232456Z",
     "shell.execute_reply": "2021-08-05T08:17:51.231306Z",
     "shell.execute_reply.started": "2021-08-05T08:17:51.218791Z"
    }
   },
   "outputs": [
    {
     "data": {
      "text/html": [
       "<div>\n",
       "<style scoped>\n",
       "    .dataframe tbody tr th:only-of-type {\n",
       "        vertical-align: middle;\n",
       "    }\n",
       "\n",
       "    .dataframe tbody tr th {\n",
       "        vertical-align: top;\n",
       "    }\n",
       "\n",
       "    .dataframe thead th {\n",
       "        text-align: right;\n",
       "    }\n",
       "</style>\n",
       "<table border=\"1\" class=\"dataframe\">\n",
       "  <thead>\n",
       "    <tr style=\"text-align: right;\">\n",
       "      <th></th>\n",
       "      <th>id</th>\n",
       "      <th>title</th>\n",
       "      <th>content</th>\n",
       "      <th>label</th>\n",
       "      <th>fake_para_len</th>\n",
       "      <th>fake_para_index</th>\n",
       "      <th>fake_type</th>\n",
       "    </tr>\n",
       "  </thead>\n",
       "  <tbody>\n",
       "    <tr>\n",
       "      <th>0</th>\n",
       "      <td>196932</td>\n",
       "      <td>মানুষের সঙ্গে ভালো আচরণের নির্দেশ আইজিপির</td>\n",
       "      <td>মানি লন্ডারিং প্রতিরোধে জেলা পুলিশকে প্রশিক্ষ...</td>\n",
       "      <td>1</td>\n",
       "      <td>2</td>\n",
       "      <td>[1, 3]</td>\n",
       "      <td>2</td>\n",
       "    </tr>\n",
       "    <tr>\n",
       "      <th>1</th>\n",
       "      <td>196933</td>\n",
       "      <td>গণহত্যার হিসাব অনুমানভিত্তিক হয়  হানিফ</td>\n",
       "      <td>সেখানে এক দুজন হিসাব করে সংখ্যা নির্ধারণ করা হ...</td>\n",
       "      <td>1</td>\n",
       "      <td>2</td>\n",
       "      <td>[2, 1]</td>\n",
       "      <td>2</td>\n",
       "    </tr>\n",
       "  </tbody>\n",
       "</table>\n",
       "</div>"
      ],
      "text/plain": [
       "       id                                       title  \\\n",
       "0  196932  মানুষের সঙ্গে ভালো আচরণের নির্দেশ আইজিপির   \n",
       "1  196933      গণহত্যার হিসাব অনুমানভিত্তিক হয়  হানিফ   \n",
       "\n",
       "                                             content  label  fake_para_len  \\\n",
       "0  মানি লন্ডারিং প্রতিরোধে জেলা পুলিশকে প্রশিক্ষ...      1              2   \n",
       "1  সেখানে এক দুজন হিসাব করে সংখ্যা নির্ধারণ করা হ...      1              2   \n",
       "\n",
       "  fake_para_index  fake_type  \n",
       "0          [1, 3]          2  \n",
       "1          [2, 1]          2  "
      ]
     },
     "execution_count": 102,
     "metadata": {},
     "output_type": "execute_result"
    }
   ],
   "source": [
    "new_incongruent1.head(2)"
   ]
  },
  {
   "cell_type": "code",
   "execution_count": 103,
   "metadata": {
    "execution": {
     "iopub.execute_input": "2021-08-05T08:17:51.234691Z",
     "iopub.status.busy": "2021-08-05T08:17:51.234243Z",
     "iopub.status.idle": "2021-08-05T08:17:51.252975Z",
     "shell.execute_reply": "2021-08-05T08:17:51.251735Z",
     "shell.execute_reply.started": "2021-08-05T08:17:51.234641Z"
    }
   },
   "outputs": [
    {
     "data": {
      "text/html": [
       "<div>\n",
       "<style scoped>\n",
       "    .dataframe tbody tr th:only-of-type {\n",
       "        vertical-align: middle;\n",
       "    }\n",
       "\n",
       "    .dataframe tbody tr th {\n",
       "        vertical-align: top;\n",
       "    }\n",
       "\n",
       "    .dataframe thead th {\n",
       "        text-align: right;\n",
       "    }\n",
       "</style>\n",
       "<table border=\"1\" class=\"dataframe\">\n",
       "  <thead>\n",
       "    <tr style=\"text-align: right;\">\n",
       "      <th></th>\n",
       "      <th>id</th>\n",
       "      <th>title</th>\n",
       "      <th>content</th>\n",
       "      <th>label</th>\n",
       "      <th>fake_para_len</th>\n",
       "      <th>fake_para_index</th>\n",
       "      <th>fake_type</th>\n",
       "    </tr>\n",
       "  </thead>\n",
       "  <tbody>\n",
       "    <tr>\n",
       "      <th>0</th>\n",
       "      <td>243434</td>\n",
       "      <td>সন্তানকে নিয়ে পুকুরে ঝাঁপ দিয়ে মায়ের আত্মহত্যা</td>\n",
       "      <td>সব মিলিয়ে নিউইয়র্ক টাইমসের তোলা প্রশ্ন ফেলে দে...</td>\n",
       "      <td>1</td>\n",
       "      <td>4</td>\n",
       "      <td>[0, 1, 4, 3]</td>\n",
       "      <td>0</td>\n",
       "    </tr>\n",
       "    <tr>\n",
       "      <th>1</th>\n",
       "      <td>243436</td>\n",
       "      <td>শ্রেণিকক্ষের সিলিং ফ্যান খুলে পড়ে শিক্ষার্থী আহত</td>\n",
       "      <td>১৯৭০ সালে পাঞ্জাব বিশ্ববিদ্যালয় থেকে উর্দু বিষ...</td>\n",
       "      <td>1</td>\n",
       "      <td>2</td>\n",
       "      <td>[0, 2]</td>\n",
       "      <td>3</td>\n",
       "    </tr>\n",
       "  </tbody>\n",
       "</table>\n",
       "</div>"
      ],
      "text/plain": [
       "       id                                             title  \\\n",
       "0  243434    সন্তানকে নিয়ে পুকুরে ঝাঁপ দিয়ে মায়ের আত্মহত্যা   \n",
       "1  243436  শ্রেণিকক্ষের সিলিং ফ্যান খুলে পড়ে শিক্ষার্থী আহত   \n",
       "\n",
       "                                             content  label  fake_para_len  \\\n",
       "0  সব মিলিয়ে নিউইয়র্ক টাইমসের তোলা প্রশ্ন ফেলে দে...      1              4   \n",
       "1  ১৯৭০ সালে পাঞ্জাব বিশ্ববিদ্যালয় থেকে উর্দু বিষ...      1              2   \n",
       "\n",
       "  fake_para_index  fake_type  \n",
       "0    [0, 1, 4, 3]          0  \n",
       "1          [0, 2]          3  "
      ]
     },
     "execution_count": 103,
     "metadata": {},
     "output_type": "execute_result"
    }
   ],
   "source": [
    "new_incongruent2.head(2)"
   ]
  },
  {
   "cell_type": "code",
   "execution_count": 104,
   "metadata": {
    "execution": {
     "iopub.execute_input": "2021-08-05T08:17:51.255153Z",
     "iopub.status.busy": "2021-08-05T08:17:51.254712Z",
     "iopub.status.idle": "2021-08-05T08:17:54.665109Z",
     "shell.execute_reply": "2021-08-05T08:17:54.664045Z",
     "shell.execute_reply.started": "2021-08-05T08:17:51.255106Z"
    }
   },
   "outputs": [
    {
     "data": {
      "text/html": [
       "<div>\n",
       "<style scoped>\n",
       "    .dataframe tbody tr th:only-of-type {\n",
       "        vertical-align: middle;\n",
       "    }\n",
       "\n",
       "    .dataframe tbody tr th {\n",
       "        vertical-align: top;\n",
       "    }\n",
       "\n",
       "    .dataframe thead th {\n",
       "        text-align: right;\n",
       "    }\n",
       "</style>\n",
       "<table border=\"1\" class=\"dataframe\">\n",
       "  <thead>\n",
       "    <tr style=\"text-align: right;\">\n",
       "      <th></th>\n",
       "      <th>index</th>\n",
       "      <th>author</th>\n",
       "      <th>category</th>\n",
       "      <th>category_bn</th>\n",
       "      <th>published_date</th>\n",
       "      <th>modification_date</th>\n",
       "      <th>tag</th>\n",
       "      <th>comment_count</th>\n",
       "      <th>title</th>\n",
       "      <th>url</th>\n",
       "      <th>content</th>\n",
       "      <th>id</th>\n",
       "      <th>label</th>\n",
       "      <th>fake_para_len</th>\n",
       "      <th>fake_para_index</th>\n",
       "      <th>fake_type</th>\n",
       "    </tr>\n",
       "  </thead>\n",
       "  <tbody>\n",
       "    <tr>\n",
       "      <th>0</th>\n",
       "      <td>0</td>\n",
       "      <td>গাজীপুর প্রতিনিধি</td>\n",
       "      <td>bangladesh</td>\n",
       "      <td>বাংলাদেশ</td>\n",
       "      <td>০৪ জুলাই ২০১৩, ২৩:২৬</td>\n",
       "      <td>০৪ জুলাই ২০১৩, ২৩:২৭</td>\n",
       "      <td>[গাজীপুর]</td>\n",
       "      <td>0</td>\n",
       "      <td>কালিয়াকৈরে টিফিন খেয়ে ৫০০ শ্রমিক অসুস্থ  বিক...</td>\n",
       "      <td>http://www.prothom-alo.com/bangladesh/article/...</td>\n",
       "      <td>গাজীপুরের কালিয়াকৈর উপজেলার তেলিরচালা এলাকায়...</td>\n",
       "      <td>0</td>\n",
       "      <td>0</td>\n",
       "      <td>0</td>\n",
       "      <td>[]</td>\n",
       "      <td>-1</td>\n",
       "    </tr>\n",
       "    <tr>\n",
       "      <th>1</th>\n",
       "      <td>1</td>\n",
       "      <td>অনলাইন ডেস্ক</td>\n",
       "      <td>sports</td>\n",
       "      <td>খেলা</td>\n",
       "      <td>০৪ জুলাই ২০১৩, ২৩:০৯</td>\n",
       "      <td>০৪ জুলাই ২০১৩, ২৩:১১</td>\n",
       "      <td>[টেনিস]</td>\n",
       "      <td>0</td>\n",
       "      <td>সেমিফাইনাল বাধাও পেরিয়ে গেলেন লিসিকি</td>\n",
       "      <td>http://www.prothom-alo.com/sports/article/19028</td>\n",
       "      <td>এবারের উইম্বলডনটা স্মরণীয় করে রাখার মিশনেই যে...</td>\n",
       "      <td>1</td>\n",
       "      <td>0</td>\n",
       "      <td>0</td>\n",
       "      <td>[]</td>\n",
       "      <td>-1</td>\n",
       "    </tr>\n",
       "  </tbody>\n",
       "</table>\n",
       "</div>"
      ],
      "text/plain": [
       "   index             author    category category_bn        published_date  \\\n",
       "0      0  গাজীপুর প্রতিনিধি  bangladesh    বাংলাদেশ  ০৪ জুলাই ২০১৩, ২৩:২৬   \n",
       "1      1       অনলাইন ডেস্ক      sports        খেলা  ০৪ জুলাই ২০১৩, ২৩:০৯   \n",
       "\n",
       "      modification_date        tag comment_count  \\\n",
       "0  ০৪ জুলাই ২০১৩, ২৩:২৭  [গাজীপুর]             0   \n",
       "1  ০৪ জুলাই ২০১৩, ২৩:১১    [টেনিস]             0   \n",
       "\n",
       "                                               title  \\\n",
       "0  কালিয়াকৈরে টিফিন খেয়ে ৫০০ শ্রমিক অসুস্থ  বিক...   \n",
       "1              সেমিফাইনাল বাধাও পেরিয়ে গেলেন লিসিকি   \n",
       "\n",
       "                                                 url  \\\n",
       "0  http://www.prothom-alo.com/bangladesh/article/...   \n",
       "1    http://www.prothom-alo.com/sports/article/19028   \n",
       "\n",
       "                                             content  id  label  \\\n",
       "0  গাজীপুরের কালিয়াকৈর উপজেলার তেলিরচালা এলাকায়...   0      0   \n",
       "1  এবারের উইম্বলডনটা স্মরণীয় করে রাখার মিশনেই যে...   1      0   \n",
       "\n",
       "   fake_para_len fake_para_index  fake_type  \n",
       "0              0              []         -1  \n",
       "1              0              []         -1  "
      ]
     },
     "execution_count": 104,
     "metadata": {},
     "output_type": "execute_result"
    }
   ],
   "source": [
    "congruent['label'] = congruent.apply(lambda x: 0,axis=1)\n",
    "congruent['fake_para_len'] = congruent.apply(lambda x: 0,axis=1)\n",
    "congruent['fake_para_index'] = congruent.apply(lambda x: [],axis=1)\n",
    "congruent['fake_type'] = congruent.apply(lambda x: -1,axis=1)\n",
    "congruent.head(2)"
   ]
  },
  {
   "cell_type": "code",
   "execution_count": 105,
   "metadata": {
    "execution": {
     "iopub.execute_input": "2021-08-05T08:17:54.667296Z",
     "iopub.status.busy": "2021-08-05T08:17:54.666993Z",
     "iopub.status.idle": "2021-08-05T08:17:54.686927Z",
     "shell.execute_reply": "2021-08-05T08:17:54.685992Z",
     "shell.execute_reply.started": "2021-08-05T08:17:54.667267Z"
    }
   },
   "outputs": [],
   "source": [
    "new_congruent = congruent[[ 'id', 'title', 'content', 'label', 'fake_para_len', 'fake_para_index', 'fake_type']]"
   ]
  },
  {
   "cell_type": "code",
   "execution_count": 106,
   "metadata": {
    "execution": {
     "iopub.execute_input": "2021-08-05T08:17:54.688833Z",
     "iopub.status.busy": "2021-08-05T08:17:54.688531Z",
     "iopub.status.idle": "2021-08-05T08:17:54.703407Z",
     "shell.execute_reply": "2021-08-05T08:17:54.702007Z",
     "shell.execute_reply.started": "2021-08-05T08:17:54.688802Z"
    }
   },
   "outputs": [
    {
     "data": {
      "text/html": [
       "<div>\n",
       "<style scoped>\n",
       "    .dataframe tbody tr th:only-of-type {\n",
       "        vertical-align: middle;\n",
       "    }\n",
       "\n",
       "    .dataframe tbody tr th {\n",
       "        vertical-align: top;\n",
       "    }\n",
       "\n",
       "    .dataframe thead th {\n",
       "        text-align: right;\n",
       "    }\n",
       "</style>\n",
       "<table border=\"1\" class=\"dataframe\">\n",
       "  <thead>\n",
       "    <tr style=\"text-align: right;\">\n",
       "      <th></th>\n",
       "      <th>id</th>\n",
       "      <th>title</th>\n",
       "      <th>content</th>\n",
       "      <th>label</th>\n",
       "      <th>fake_para_len</th>\n",
       "      <th>fake_para_index</th>\n",
       "      <th>fake_type</th>\n",
       "    </tr>\n",
       "  </thead>\n",
       "  <tbody>\n",
       "    <tr>\n",
       "      <th>0</th>\n",
       "      <td>0</td>\n",
       "      <td>কালিয়াকৈরে টিফিন খেয়ে ৫০০ শ্রমিক অসুস্থ  বিক...</td>\n",
       "      <td>গাজীপুরের কালিয়াকৈর উপজেলার তেলিরচালা এলাকায়...</td>\n",
       "      <td>0</td>\n",
       "      <td>0</td>\n",
       "      <td>[]</td>\n",
       "      <td>-1</td>\n",
       "    </tr>\n",
       "    <tr>\n",
       "      <th>1</th>\n",
       "      <td>1</td>\n",
       "      <td>সেমিফাইনাল বাধাও পেরিয়ে গেলেন লিসিকি</td>\n",
       "      <td>এবারের উইম্বলডনটা স্মরণীয় করে রাখার মিশনেই যে...</td>\n",
       "      <td>0</td>\n",
       "      <td>0</td>\n",
       "      <td>[]</td>\n",
       "      <td>-1</td>\n",
       "    </tr>\n",
       "  </tbody>\n",
       "</table>\n",
       "</div>"
      ],
      "text/plain": [
       "   id                                              title  \\\n",
       "0   0  কালিয়াকৈরে টিফিন খেয়ে ৫০০ শ্রমিক অসুস্থ  বিক...   \n",
       "1   1              সেমিফাইনাল বাধাও পেরিয়ে গেলেন লিসিকি   \n",
       "\n",
       "                                             content  label  fake_para_len  \\\n",
       "0  গাজীপুরের কালিয়াকৈর উপজেলার তেলিরচালা এলাকায়...      0              0   \n",
       "1  এবারের উইম্বলডনটা স্মরণীয় করে রাখার মিশনেই যে...      0              0   \n",
       "\n",
       "  fake_para_index  fake_type  \n",
       "0              []         -1  \n",
       "1              []         -1  "
      ]
     },
     "execution_count": 106,
     "metadata": {},
     "output_type": "execute_result"
    }
   ],
   "source": [
    "new_congruent.head(2)"
   ]
  },
  {
   "cell_type": "code",
   "execution_count": 107,
   "metadata": {
    "execution": {
     "iopub.execute_input": "2021-08-05T08:17:54.705900Z",
     "iopub.status.busy": "2021-08-05T08:17:54.705408Z",
     "iopub.status.idle": "2021-08-05T08:17:54.792457Z",
     "shell.execute_reply": "2021-08-05T08:17:54.791419Z",
     "shell.execute_reply.started": "2021-08-05T08:17:54.705809Z"
    }
   },
   "outputs": [],
   "source": [
    "new_incongruent = pd.concat([new_incongruent1,new_incongruent2,new_incongruent3,new_incongruent4], axis=0)"
   ]
  },
  {
   "cell_type": "code",
   "execution_count": 108,
   "metadata": {
    "execution": {
     "iopub.execute_input": "2021-08-05T08:19:28.242721Z",
     "iopub.status.busy": "2021-08-05T08:19:28.242279Z",
     "iopub.status.idle": "2021-08-05T08:19:28.370389Z",
     "shell.execute_reply": "2021-08-05T08:19:28.369208Z",
     "shell.execute_reply.started": "2021-08-05T08:19:28.242682Z"
    }
   },
   "outputs": [
    {
     "name": "stdout",
     "output_type": "stream",
     "text": [
      "120000\n",
      "120000\n"
     ]
    }
   ],
   "source": [
    "print(len(new_incongruent))\n",
    "new_incongruent = new_incongruent.dropna()\n",
    "print(len(new_incongruent))"
   ]
  },
  {
   "cell_type": "code",
   "execution_count": 109,
   "metadata": {
    "execution": {
     "iopub.execute_input": "2021-08-05T08:19:32.298098Z",
     "iopub.status.busy": "2021-08-05T08:19:32.297717Z",
     "iopub.status.idle": "2021-08-05T08:19:32.378087Z",
     "shell.execute_reply": "2021-08-05T08:19:32.376860Z",
     "shell.execute_reply.started": "2021-08-05T08:19:32.298065Z"
    }
   },
   "outputs": [
    {
     "name": "stdout",
     "output_type": "stream",
     "text": [
      "120000\n",
      "120000\n"
     ]
    }
   ],
   "source": [
    "print(len(new_congruent))\n",
    "new_congruent = new_congruent.dropna()\n",
    "print(len(new_congruent))"
   ]
  },
  {
   "cell_type": "code",
   "execution_count": 110,
   "metadata": {
    "execution": {
     "iopub.execute_input": "2021-08-05T08:19:35.940096Z",
     "iopub.status.busy": "2021-08-05T08:19:35.939690Z",
     "iopub.status.idle": "2021-08-05T08:19:35.946726Z",
     "shell.execute_reply": "2021-08-05T08:19:35.945650Z",
     "shell.execute_reply.started": "2021-08-05T08:19:35.940059Z"
    }
   },
   "outputs": [
    {
     "data": {
      "text/plain": [
       "(120000, 120000)"
      ]
     },
     "execution_count": 110,
     "metadata": {},
     "output_type": "execute_result"
    }
   ],
   "source": [
    "len(new_incongruent),len(new_congruent)"
   ]
  },
  {
   "cell_type": "code",
   "execution_count": 111,
   "metadata": {
    "execution": {
     "iopub.execute_input": "2021-08-05T08:19:39.666302Z",
     "iopub.status.busy": "2021-08-05T08:19:39.665889Z",
     "iopub.status.idle": "2021-08-05T08:19:39.683025Z",
     "shell.execute_reply": "2021-08-05T08:19:39.682190Z",
     "shell.execute_reply.started": "2021-08-05T08:19:39.666266Z"
    }
   },
   "outputs": [
    {
     "data": {
      "text/html": [
       "<div>\n",
       "<style scoped>\n",
       "    .dataframe tbody tr th:only-of-type {\n",
       "        vertical-align: middle;\n",
       "    }\n",
       "\n",
       "    .dataframe tbody tr th {\n",
       "        vertical-align: top;\n",
       "    }\n",
       "\n",
       "    .dataframe thead th {\n",
       "        text-align: right;\n",
       "    }\n",
       "</style>\n",
       "<table border=\"1\" class=\"dataframe\">\n",
       "  <thead>\n",
       "    <tr style=\"text-align: right;\">\n",
       "      <th></th>\n",
       "      <th>id</th>\n",
       "      <th>title</th>\n",
       "      <th>content</th>\n",
       "      <th>label</th>\n",
       "      <th>fake_para_len</th>\n",
       "      <th>fake_para_index</th>\n",
       "      <th>fake_type</th>\n",
       "    </tr>\n",
       "  </thead>\n",
       "  <tbody>\n",
       "    <tr>\n",
       "      <th>0</th>\n",
       "      <td>0</td>\n",
       "      <td>কালিয়াকৈরে টিফিন খেয়ে ৫০০ শ্রমিক অসুস্থ  বিক...</td>\n",
       "      <td>গাজীপুরের কালিয়াকৈর উপজেলার তেলিরচালা এলাকায়...</td>\n",
       "      <td>0</td>\n",
       "      <td>0</td>\n",
       "      <td>[]</td>\n",
       "      <td>-1</td>\n",
       "    </tr>\n",
       "    <tr>\n",
       "      <th>1</th>\n",
       "      <td>1</td>\n",
       "      <td>সেমিফাইনাল বাধাও পেরিয়ে গেলেন লিসিকি</td>\n",
       "      <td>এবারের উইম্বলডনটা স্মরণীয় করে রাখার মিশনেই যে...</td>\n",
       "      <td>0</td>\n",
       "      <td>0</td>\n",
       "      <td>[]</td>\n",
       "      <td>-1</td>\n",
       "    </tr>\n",
       "    <tr>\n",
       "      <th>2</th>\n",
       "      <td>2</td>\n",
       "      <td>সংসদে খালেদার অভিযোগের জবাব দিয়েছে ভারত</td>\n",
       "      <td>জাতীয় সংসদে বিএনপি চেয়ারপারসন ও বিরোধীদলীয় ...</td>\n",
       "      <td>0</td>\n",
       "      <td>0</td>\n",
       "      <td>[]</td>\n",
       "      <td>-1</td>\n",
       "    </tr>\n",
       "    <tr>\n",
       "      <th>3</th>\n",
       "      <td>3</td>\n",
       "      <td>পাসওয়ার্ড ভুলে যান</td>\n",
       "      <td>সহজ পাসওয়ার্ডের কারণে অনলাইন অ্যাকাউন্ট সহজেই...</td>\n",
       "      <td>0</td>\n",
       "      <td>0</td>\n",
       "      <td>[]</td>\n",
       "      <td>-1</td>\n",
       "    </tr>\n",
       "    <tr>\n",
       "      <th>4</th>\n",
       "      <td>4</td>\n",
       "      <td>চলে গেলেন মাউস উদ্ভাবক</td>\n",
       "      <td>কম্পিউটার মাউসের উদ্ভাবক ডগলাস অ্যাঙ্গেলবার্ট ...</td>\n",
       "      <td>0</td>\n",
       "      <td>0</td>\n",
       "      <td>[]</td>\n",
       "      <td>-1</td>\n",
       "    </tr>\n",
       "  </tbody>\n",
       "</table>\n",
       "</div>"
      ],
      "text/plain": [
       "   id                                              title  \\\n",
       "0   0  কালিয়াকৈরে টিফিন খেয়ে ৫০০ শ্রমিক অসুস্থ  বিক...   \n",
       "1   1              সেমিফাইনাল বাধাও পেরিয়ে গেলেন লিসিকি   \n",
       "2   2           সংসদে খালেদার অভিযোগের জবাব দিয়েছে ভারত   \n",
       "3   3                               পাসওয়ার্ড ভুলে যান    \n",
       "4   4                             চলে গেলেন মাউস উদ্ভাবক   \n",
       "\n",
       "                                             content  label  fake_para_len  \\\n",
       "0  গাজীপুরের কালিয়াকৈর উপজেলার তেলিরচালা এলাকায়...      0              0   \n",
       "1  এবারের উইম্বলডনটা স্মরণীয় করে রাখার মিশনেই যে...      0              0   \n",
       "2  জাতীয় সংসদে বিএনপি চেয়ারপারসন ও বিরোধীদলীয় ...      0              0   \n",
       "3  সহজ পাসওয়ার্ডের কারণে অনলাইন অ্যাকাউন্ট সহজেই...      0              0   \n",
       "4  কম্পিউটার মাউসের উদ্ভাবক ডগলাস অ্যাঙ্গেলবার্ট ...      0              0   \n",
       "\n",
       "  fake_para_index  fake_type  \n",
       "0              []         -1  \n",
       "1              []         -1  \n",
       "2              []         -1  \n",
       "3              []         -1  \n",
       "4              []         -1  "
      ]
     },
     "execution_count": 111,
     "metadata": {},
     "output_type": "execute_result"
    }
   ],
   "source": [
    "new_congruent.head()"
   ]
  },
  {
   "cell_type": "code",
   "execution_count": 112,
   "metadata": {
    "execution": {
     "iopub.execute_input": "2021-08-05T08:19:44.949402Z",
     "iopub.status.busy": "2021-08-05T08:19:44.949057Z",
     "iopub.status.idle": "2021-08-05T08:19:44.964370Z",
     "shell.execute_reply": "2021-08-05T08:19:44.963430Z",
     "shell.execute_reply.started": "2021-08-05T08:19:44.949371Z"
    }
   },
   "outputs": [
    {
     "data": {
      "text/html": [
       "<div>\n",
       "<style scoped>\n",
       "    .dataframe tbody tr th:only-of-type {\n",
       "        vertical-align: middle;\n",
       "    }\n",
       "\n",
       "    .dataframe tbody tr th {\n",
       "        vertical-align: top;\n",
       "    }\n",
       "\n",
       "    .dataframe thead th {\n",
       "        text-align: right;\n",
       "    }\n",
       "</style>\n",
       "<table border=\"1\" class=\"dataframe\">\n",
       "  <thead>\n",
       "    <tr style=\"text-align: right;\">\n",
       "      <th></th>\n",
       "      <th>id</th>\n",
       "      <th>title</th>\n",
       "      <th>content</th>\n",
       "      <th>label</th>\n",
       "      <th>fake_para_len</th>\n",
       "      <th>fake_para_index</th>\n",
       "      <th>fake_type</th>\n",
       "    </tr>\n",
       "  </thead>\n",
       "  <tbody>\n",
       "    <tr>\n",
       "      <th>0</th>\n",
       "      <td>196932</td>\n",
       "      <td>মানুষের সঙ্গে ভালো আচরণের নির্দেশ আইজিপির</td>\n",
       "      <td>মানি লন্ডারিং প্রতিরোধে জেলা পুলিশকে প্রশিক্ষ...</td>\n",
       "      <td>1</td>\n",
       "      <td>2</td>\n",
       "      <td>[1, 3]</td>\n",
       "      <td>2</td>\n",
       "    </tr>\n",
       "    <tr>\n",
       "      <th>1</th>\n",
       "      <td>196933</td>\n",
       "      <td>গণহত্যার হিসাব অনুমানভিত্তিক হয়  হানিফ</td>\n",
       "      <td>সেখানে এক দুজন হিসাব করে সংখ্যা নির্ধারণ করা হ...</td>\n",
       "      <td>1</td>\n",
       "      <td>2</td>\n",
       "      <td>[2, 1]</td>\n",
       "      <td>2</td>\n",
       "    </tr>\n",
       "    <tr>\n",
       "      <th>2</th>\n",
       "      <td>196934</td>\n",
       "      <td>গাজীপুরে ট্রেন বিকল  আড়াই ঘণ্টা চলাচল বন্ধ</td>\n",
       "      <td>খবর পেয়ে জয়দেবপুর থেকে রেল জংশনের লোকজন ঘটনাস...</td>\n",
       "      <td>1</td>\n",
       "      <td>2</td>\n",
       "      <td>[2, 1]</td>\n",
       "      <td>3</td>\n",
       "    </tr>\n",
       "    <tr>\n",
       "      <th>3</th>\n",
       "      <td>196935</td>\n",
       "      <td>নতুন শিক্ষানীতির দাবিতে সোচ্চার হওয়ার আহ্বান</td>\n",
       "      <td>সে কারণে তাঁরা বিরোধী দলে আছেন  &lt;EOS&gt; আর বিএনপ...</td>\n",
       "      <td>1</td>\n",
       "      <td>4</td>\n",
       "      <td>[1, 3, 0, 2]</td>\n",
       "      <td>2</td>\n",
       "    </tr>\n",
       "    <tr>\n",
       "      <th>4</th>\n",
       "      <td>196936</td>\n",
       "      <td>দলীয় তপস্যায় মগ্ন পিনাক</td>\n",
       "      <td>এতে পিনাকের রানের খিদেটা আরও বেড়েছে  &lt;EOS&gt; সাম...</td>\n",
       "      <td>1</td>\n",
       "      <td>4</td>\n",
       "      <td>[1, 3, 7, 6]</td>\n",
       "      <td>0</td>\n",
       "    </tr>\n",
       "  </tbody>\n",
       "</table>\n",
       "</div>"
      ],
      "text/plain": [
       "       id                                          title  \\\n",
       "0  196932     মানুষের সঙ্গে ভালো আচরণের নির্দেশ আইজিপির   \n",
       "1  196933         গণহত্যার হিসাব অনুমানভিত্তিক হয়  হানিফ   \n",
       "2  196934     গাজীপুরে ট্রেন বিকল  আড়াই ঘণ্টা চলাচল বন্ধ   \n",
       "3  196935  নতুন শিক্ষানীতির দাবিতে সোচ্চার হওয়ার আহ্বান   \n",
       "4  196936                        দলীয় তপস্যায় মগ্ন পিনাক   \n",
       "\n",
       "                                             content  label  fake_para_len  \\\n",
       "0  মানি লন্ডারিং প্রতিরোধে জেলা পুলিশকে প্রশিক্ষ...      1              2   \n",
       "1  সেখানে এক দুজন হিসাব করে সংখ্যা নির্ধারণ করা হ...      1              2   \n",
       "2  খবর পেয়ে জয়দেবপুর থেকে রেল জংশনের লোকজন ঘটনাস...      1              2   \n",
       "3  সে কারণে তাঁরা বিরোধী দলে আছেন  <EOS> আর বিএনপ...      1              4   \n",
       "4  এতে পিনাকের রানের খিদেটা আরও বেড়েছে  <EOS> সাম...      1              4   \n",
       "\n",
       "  fake_para_index  fake_type  \n",
       "0          [1, 3]          2  \n",
       "1          [2, 1]          2  \n",
       "2          [2, 1]          3  \n",
       "3    [1, 3, 0, 2]          2  \n",
       "4    [1, 3, 7, 6]          0  "
      ]
     },
     "execution_count": 112,
     "metadata": {},
     "output_type": "execute_result"
    }
   ],
   "source": [
    "new_incongruent.head()"
   ]
  },
  {
   "cell_type": "code",
   "execution_count": 113,
   "metadata": {
    "execution": {
     "iopub.execute_input": "2021-08-05T08:19:49.181487Z",
     "iopub.status.busy": "2021-08-05T08:19:49.181072Z",
     "iopub.status.idle": "2021-08-05T08:19:49.277406Z",
     "shell.execute_reply": "2021-08-05T08:19:49.276347Z",
     "shell.execute_reply.started": "2021-08-05T08:19:49.181449Z"
    }
   },
   "outputs": [
    {
     "data": {
      "text/plain": [
       "(114000, 6000, 3000, 3000)"
      ]
     },
     "execution_count": 113,
     "metadata": {},
     "output_type": "execute_result"
    }
   ],
   "source": [
    "from sklearn.model_selection import train_test_split\n",
    "train_congruent, test_val_train_congruent = train_test_split(new_congruent, test_size=0.05)\n",
    "test_congruent, dev_congruent = train_test_split(test_val_train_congruent, test_size=0.5)\n",
    "len(train_congruent),len(test_val_train_congruent),len(test_congruent),len(dev_congruent)"
   ]
  },
  {
   "cell_type": "code",
   "execution_count": 114,
   "metadata": {
    "execution": {
     "iopub.execute_input": "2021-08-05T08:19:57.018335Z",
     "iopub.status.busy": "2021-08-05T08:19:57.017958Z",
     "iopub.status.idle": "2021-08-05T08:19:57.122660Z",
     "shell.execute_reply": "2021-08-05T08:19:57.121468Z",
     "shell.execute_reply.started": "2021-08-05T08:19:57.018299Z"
    }
   },
   "outputs": [
    {
     "data": {
      "text/plain": [
       "(114000, 6000, 3000, 3000)"
      ]
     },
     "execution_count": 114,
     "metadata": {},
     "output_type": "execute_result"
    }
   ],
   "source": [
    "from sklearn.model_selection import train_test_split\n",
    "train_incongruent, test_val_train_incongruent = train_test_split(new_incongruent, test_size=0.05)\n",
    "test_incongruent, dev_incongruent = train_test_split(test_val_train_incongruent, test_size=0.5)\n",
    "len(train_incongruent),len(test_val_train_incongruent),len(test_incongruent),len(dev_incongruent)"
   ]
  },
  {
   "cell_type": "code",
   "execution_count": 115,
   "metadata": {
    "execution": {
     "iopub.execute_input": "2021-08-05T08:20:01.186143Z",
     "iopub.status.busy": "2021-08-05T08:20:01.185763Z",
     "iopub.status.idle": "2021-08-05T08:20:01.323401Z",
     "shell.execute_reply": "2021-08-05T08:20:01.322234Z",
     "shell.execute_reply.started": "2021-08-05T08:20:01.186109Z"
    }
   },
   "outputs": [],
   "source": [
    "train = pd.concat([train_incongruent, train_congruent], axis=0)"
   ]
  },
  {
   "cell_type": "code",
   "execution_count": 116,
   "metadata": {
    "execution": {
     "iopub.execute_input": "2021-08-05T08:20:01.625722Z",
     "iopub.status.busy": "2021-08-05T08:20:01.625368Z",
     "iopub.status.idle": "2021-08-05T08:20:01.640001Z",
     "shell.execute_reply": "2021-08-05T08:20:01.639170Z",
     "shell.execute_reply.started": "2021-08-05T08:20:01.625691Z"
    }
   },
   "outputs": [],
   "source": [
    "test = pd.concat([test_incongruent, test_congruent], axis=0)"
   ]
  },
  {
   "cell_type": "code",
   "execution_count": 117,
   "metadata": {
    "execution": {
     "iopub.execute_input": "2021-08-05T08:20:02.091724Z",
     "iopub.status.busy": "2021-08-05T08:20:02.091342Z",
     "iopub.status.idle": "2021-08-05T08:20:02.105332Z",
     "shell.execute_reply": "2021-08-05T08:20:02.104366Z",
     "shell.execute_reply.started": "2021-08-05T08:20:02.091689Z"
    }
   },
   "outputs": [],
   "source": [
    "dev = pd.concat([dev_incongruent, dev_congruent], axis=0)"
   ]
  },
  {
   "cell_type": "code",
   "execution_count": 119,
   "metadata": {
    "execution": {
     "iopub.execute_input": "2021-08-05T08:20:16.584797Z",
     "iopub.status.busy": "2021-08-05T08:20:16.584417Z",
     "iopub.status.idle": "2021-08-05T08:20:16.600371Z",
     "shell.execute_reply": "2021-08-05T08:20:16.599364Z",
     "shell.execute_reply.started": "2021-08-05T08:20:16.584764Z"
    }
   },
   "outputs": [
    {
     "data": {
      "text/html": [
       "<div>\n",
       "<style scoped>\n",
       "    .dataframe tbody tr th:only-of-type {\n",
       "        vertical-align: middle;\n",
       "    }\n",
       "\n",
       "    .dataframe tbody tr th {\n",
       "        vertical-align: top;\n",
       "    }\n",
       "\n",
       "    .dataframe thead th {\n",
       "        text-align: right;\n",
       "    }\n",
       "</style>\n",
       "<table border=\"1\" class=\"dataframe\">\n",
       "  <thead>\n",
       "    <tr style=\"text-align: right;\">\n",
       "      <th></th>\n",
       "      <th>id</th>\n",
       "      <th>title</th>\n",
       "      <th>content</th>\n",
       "      <th>label</th>\n",
       "      <th>fake_para_len</th>\n",
       "      <th>fake_para_index</th>\n",
       "      <th>fake_type</th>\n",
       "    </tr>\n",
       "  </thead>\n",
       "  <tbody>\n",
       "    <tr>\n",
       "      <th>4925</th>\n",
       "      <td>296825</td>\n",
       "      <td>ফাঁসি মওকুফের পর রেয়াতও পেলেন যুবলীগ নেতা আসলাম</td>\n",
       "      <td>এর বিরুদ্ধে আপিল করা হলে সুপ্রিম কোর্ট আসলামের...</td>\n",
       "      <td>1</td>\n",
       "      <td>4</td>\n",
       "      <td>[3, 6, 1, 7]</td>\n",
       "      <td>2</td>\n",
       "    </tr>\n",
       "    <tr>\n",
       "      <th>17546</th>\n",
       "      <td>224070</td>\n",
       "      <td>সাতক্ষীরায় সংঘর্ষে শ্রমিকনেতা নিহত</td>\n",
       "      <td>চাঁপাইনবাবগঞ্জে একটি হত্যা মামলায় দুজনকে যাবজ্...</td>\n",
       "      <td>1</td>\n",
       "      <td>3</td>\n",
       "      <td>[2, 0, 1]</td>\n",
       "      <td>0</td>\n",
       "    </tr>\n",
       "  </tbody>\n",
       "</table>\n",
       "</div>"
      ],
      "text/plain": [
       "           id                                            title  \\\n",
       "4925   296825  ফাঁসি মওকুফের পর রেয়াতও পেলেন যুবলীগ নেতা আসলাম   \n",
       "17546  224070               সাতক্ষীরায় সংঘর্ষে শ্রমিকনেতা নিহত   \n",
       "\n",
       "                                                 content  label  \\\n",
       "4925   এর বিরুদ্ধে আপিল করা হলে সুপ্রিম কোর্ট আসলামের...      1   \n",
       "17546  চাঁপাইনবাবগঞ্জে একটি হত্যা মামলায় দুজনকে যাবজ্...      1   \n",
       "\n",
       "       fake_para_len fake_para_index  fake_type  \n",
       "4925               4    [3, 6, 1, 7]          2  \n",
       "17546              3       [2, 0, 1]          0  "
      ]
     },
     "execution_count": 119,
     "metadata": {},
     "output_type": "execute_result"
    }
   ],
   "source": [
    "dev.head(2)"
   ]
  },
  {
   "cell_type": "code",
   "execution_count": 76,
   "metadata": {
    "execution": {
     "iopub.execute_input": "2021-08-05T08:02:41.222906Z",
     "iopub.status.busy": "2021-08-05T08:02:41.222493Z",
     "iopub.status.idle": "2021-08-05T08:02:41.311770Z",
     "shell.execute_reply": "2021-08-05T08:02:41.310760Z",
     "shell.execute_reply.started": "2021-08-05T08:02:41.222864Z"
    }
   },
   "outputs": [],
   "source": []
  },
  {
   "cell_type": "code",
   "execution_count": 77,
   "metadata": {
    "execution": {
     "iopub.execute_input": "2021-08-05T08:02:42.646176Z",
     "iopub.status.busy": "2021-08-05T08:02:42.645788Z",
     "iopub.status.idle": "2021-08-05T08:02:42.682142Z",
     "shell.execute_reply": "2021-08-05T08:02:42.681046Z",
     "shell.execute_reply.started": "2021-08-05T08:02:42.646139Z"
    }
   },
   "outputs": [
    {
     "name": "stdout",
     "output_type": "stream",
     "text": [
      "228000\n",
      "133595\n"
     ]
    }
   ],
   "source": []
  },
  {
   "cell_type": "code",
   "execution_count": null,
   "metadata": {},
   "outputs": [],
   "source": []
  },
  {
   "cell_type": "code",
   "execution_count": null,
   "metadata": {
    "execution": {
     "iopub.execute_input": "2021-08-02T11:04:38.667293Z",
     "iopub.status.busy": "2021-08-02T11:04:38.666928Z",
     "iopub.status.idle": "2021-08-02T11:04:38.680295Z",
     "shell.execute_reply": "2021-08-02T11:04:38.679478Z",
     "shell.execute_reply.started": "2021-08-02T11:04:38.667256Z"
    }
   },
   "outputs": [],
   "source": [
    "test.head(2)"
   ]
  },
  {
   "cell_type": "code",
   "execution_count": 122,
   "metadata": {
    "execution": {
     "iopub.execute_input": "2021-08-05T08:21:53.567448Z",
     "iopub.status.busy": "2021-08-05T08:21:53.567073Z",
     "iopub.status.idle": "2021-08-05T08:21:53.573522Z",
     "shell.execute_reply": "2021-08-05T08:21:53.572480Z",
     "shell.execute_reply.started": "2021-08-05T08:21:53.567412Z"
    }
   },
   "outputs": [
    {
     "data": {
      "text/plain": [
       "(228000, 6000, 6000)"
      ]
     },
     "execution_count": 122,
     "metadata": {},
     "output_type": "execute_result"
    }
   ],
   "source": [
    "len(train),len(test),len(dev)"
   ]
  },
  {
   "cell_type": "code",
   "execution_count": 125,
   "metadata": {
    "execution": {
     "iopub.execute_input": "2021-08-05T08:22:26.293385Z",
     "iopub.status.busy": "2021-08-05T08:22:26.293019Z",
     "iopub.status.idle": "2021-08-05T08:22:26.443921Z",
     "shell.execute_reply": "2021-08-05T08:22:26.443154Z",
     "shell.execute_reply.started": "2021-08-05T08:22:26.293353Z"
    }
   },
   "outputs": [],
   "source": [
    "train = train.sample(frac=1)\n",
    "test = test.sample(frac=1)\n",
    "dev = dev.sample(frac=1)"
   ]
  },
  {
   "cell_type": "code",
   "execution_count": 126,
   "metadata": {
    "execution": {
     "iopub.execute_input": "2021-08-05T08:22:27.144888Z",
     "iopub.status.busy": "2021-08-05T08:22:27.144319Z",
     "iopub.status.idle": "2021-08-05T08:22:27.168297Z",
     "shell.execute_reply": "2021-08-05T08:22:27.167357Z",
     "shell.execute_reply.started": "2021-08-05T08:22:27.144852Z"
    }
   },
   "outputs": [
    {
     "data": {
      "text/html": [
       "<div>\n",
       "<style scoped>\n",
       "    .dataframe tbody tr th:only-of-type {\n",
       "        vertical-align: middle;\n",
       "    }\n",
       "\n",
       "    .dataframe tbody tr th {\n",
       "        vertical-align: top;\n",
       "    }\n",
       "\n",
       "    .dataframe thead th {\n",
       "        text-align: right;\n",
       "    }\n",
       "</style>\n",
       "<table border=\"1\" class=\"dataframe\">\n",
       "  <thead>\n",
       "    <tr style=\"text-align: right;\">\n",
       "      <th></th>\n",
       "      <th>id</th>\n",
       "      <th>title</th>\n",
       "      <th>content</th>\n",
       "      <th>label</th>\n",
       "      <th>fake_para_len</th>\n",
       "      <th>fake_para_index</th>\n",
       "      <th>fake_type</th>\n",
       "    </tr>\n",
       "  </thead>\n",
       "  <tbody>\n",
       "    <tr>\n",
       "      <th>16576</th>\n",
       "      <td>25808</td>\n",
       "      <td>বেকসুর খালাস পেলেন যাঁরা</td>\n",
       "      <td>পিলখানা হত্যা মামলায় অভিযোগ প্রমাণিত না হওয়া...</td>\n",
       "      <td>0</td>\n",
       "      <td>0</td>\n",
       "      <td>[]</td>\n",
       "      <td>-1</td>\n",
       "    </tr>\n",
       "    <tr>\n",
       "      <th>13192</th>\n",
       "      <td>346146</td>\n",
       "      <td>ভল্ট থেকে বের করা ৪৫ লাখ টাকা হাওয়া</td>\n",
       "      <td>দাবি করা টাকা উদ্ধার ও জড়িত ব্যক্তিদের ধরতে পু...</td>\n",
       "      <td>1</td>\n",
       "      <td>1</td>\n",
       "      <td>[2]</td>\n",
       "      <td>1</td>\n",
       "    </tr>\n",
       "    <tr>\n",
       "      <th>77181</th>\n",
       "      <td>128597</td>\n",
       "      <td>আওয়ামী লীগ কি ভয় পেয়েছে</td>\n",
       "      <td>যাঁরা সরকারের অন্ধ সমালোচক তার ভালো কাজও বাঁ...</td>\n",
       "      <td>0</td>\n",
       "      <td>0</td>\n",
       "      <td>[]</td>\n",
       "      <td>-1</td>\n",
       "    </tr>\n",
       "    <tr>\n",
       "      <th>63457</th>\n",
       "      <td>104545</td>\n",
       "      <td>যুদ্ধ ও পররাষ্ট্রনীতির কৌশল বদলে দেবে থ্রিডি প...</td>\n",
       "      <td>ত্রিমাত্রিক  প্রিন্টার দিয়ে অবিশ্বাস্য সব নকশ...</td>\n",
       "      <td>0</td>\n",
       "      <td>0</td>\n",
       "      <td>[]</td>\n",
       "      <td>-1</td>\n",
       "    </tr>\n",
       "    <tr>\n",
       "      <th>17469</th>\n",
       "      <td>351132</td>\n",
       "      <td>স্ত্রীর মামলায় সেই এসআই গ্রেপ্তার</td>\n",
       "      <td>অন্যদিকে জার্মান সমর্থকেরাও আছেন খোশমেজাজে  &lt;E...</td>\n",
       "      <td>1</td>\n",
       "      <td>5</td>\n",
       "      <td>[0, 3, 2, 4, 1]</td>\n",
       "      <td>1</td>\n",
       "    </tr>\n",
       "    <tr>\n",
       "      <th>...</th>\n",
       "      <td>...</td>\n",
       "      <td>...</td>\n",
       "      <td>...</td>\n",
       "      <td>...</td>\n",
       "      <td>...</td>\n",
       "      <td>...</td>\n",
       "      <td>...</td>\n",
       "    </tr>\n",
       "    <tr>\n",
       "      <th>10688</th>\n",
       "      <td>259762</td>\n",
       "      <td>৭০ লাখ টাকার জাল নোট উদ্ধার  গ্রেপ্তার ১০</td>\n",
       "      <td>মরণাপন্ন অবস্থায় শেষবারের মতো হাসপাতালে যাওয়ার...</td>\n",
       "      <td>1</td>\n",
       "      <td>3</td>\n",
       "      <td>[2, 0, 4]</td>\n",
       "      <td>3</td>\n",
       "    </tr>\n",
       "    <tr>\n",
       "      <th>28300</th>\n",
       "      <td>44631</td>\n",
       "      <td>নির্বাচনের আগে প্রয়োজন জঙ্গিবাদ মুক্ত করা</td>\n",
       "      <td>তথ্যমন্ত্রী হাসানুল হক ইনু বলেছেন  নির্বাচন নি...</td>\n",
       "      <td>0</td>\n",
       "      <td>0</td>\n",
       "      <td>[]</td>\n",
       "      <td>-1</td>\n",
       "    </tr>\n",
       "    <tr>\n",
       "      <th>22918</th>\n",
       "      <td>321496</td>\n",
       "      <td>পাঁচ মিনিটের ঝড়ে সহস্রাধিক ঘরবাড়ি বিধ্বস্ত  ...</td>\n",
       "      <td>যে মাঠ পেরোলেই চন্দ্রিমা উদ্যানের একরাশ সবুজ  ...</td>\n",
       "      <td>1</td>\n",
       "      <td>6</td>\n",
       "      <td>[3, 2, 5, 1, 0, 4]</td>\n",
       "      <td>3</td>\n",
       "    </tr>\n",
       "    <tr>\n",
       "      <th>82807</th>\n",
       "      <td>137918</td>\n",
       "      <td>জ্বর নিয়ে ভাবছেন না ভাবনা</td>\n",
       "      <td>যদিও চলচ্চিত্রে টানা কাজ করে অসুস্থ হয়ে পড়েছ...</td>\n",
       "      <td>0</td>\n",
       "      <td>0</td>\n",
       "      <td>[]</td>\n",
       "      <td>-1</td>\n",
       "    </tr>\n",
       "    <tr>\n",
       "      <th>3822</th>\n",
       "      <td>5708</td>\n",
       "      <td>চি ঠি প ত্র</td>\n",
       "      <td>কোটা১৪ জুলাই প্রথম আলো পত্রিকায় প্রকাশিত অধ্য...</td>\n",
       "      <td>0</td>\n",
       "      <td>0</td>\n",
       "      <td>[]</td>\n",
       "      <td>-1</td>\n",
       "    </tr>\n",
       "  </tbody>\n",
       "</table>\n",
       "<p>6000 rows × 7 columns</p>\n",
       "</div>"
      ],
      "text/plain": [
       "           id                                              title  \\\n",
       "16576   25808                           বেকসুর খালাস পেলেন যাঁরা   \n",
       "13192  346146               ভল্ট থেকে বের করা ৪৫ লাখ টাকা হাওয়া    \n",
       "77181  128597                           আওয়ামী লীগ কি ভয় পেয়েছে    \n",
       "63457  104545  যুদ্ধ ও পররাষ্ট্রনীতির কৌশল বদলে দেবে থ্রিডি প...   \n",
       "17469  351132                  স্ত্রীর মামলায় সেই এসআই গ্রেপ্তার   \n",
       "...       ...                                                ...   \n",
       "10688  259762         ৭০ লাখ টাকার জাল নোট উদ্ধার  গ্রেপ্তার ১০   \n",
       "28300   44631          নির্বাচনের আগে প্রয়োজন জঙ্গিবাদ মুক্ত করা   \n",
       "22918  321496  পাঁচ মিনিটের ঝড়ে সহস্রাধিক ঘরবাড়ি বিধ্বস্ত  ...   \n",
       "82807  137918                         জ্বর নিয়ে ভাবছেন না ভাবনা   \n",
       "3822     5708                                        চি ঠি প ত্র   \n",
       "\n",
       "                                                 content  label  \\\n",
       "16576  পিলখানা হত্যা মামলায় অভিযোগ প্রমাণিত না হওয়া...      0   \n",
       "13192  দাবি করা টাকা উদ্ধার ও জড়িত ব্যক্তিদের ধরতে পু...      1   \n",
       "77181  যাঁরা সরকারের অন্ধ সমালোচক তার ভালো কাজও বাঁ...      0   \n",
       "63457  ত্রিমাত্রিক  প্রিন্টার দিয়ে অবিশ্বাস্য সব নকশ...      0   \n",
       "17469  অন্যদিকে জার্মান সমর্থকেরাও আছেন খোশমেজাজে  <E...      1   \n",
       "...                                                  ...    ...   \n",
       "10688  মরণাপন্ন অবস্থায় শেষবারের মতো হাসপাতালে যাওয়ার...      1   \n",
       "28300  তথ্যমন্ত্রী হাসানুল হক ইনু বলেছেন  নির্বাচন নি...      0   \n",
       "22918  যে মাঠ পেরোলেই চন্দ্রিমা উদ্যানের একরাশ সবুজ  ...      1   \n",
       "82807  যদিও চলচ্চিত্রে টানা কাজ করে অসুস্থ হয়ে পড়েছ...      0   \n",
       "3822   কোটা১৪ জুলাই প্রথম আলো পত্রিকায় প্রকাশিত অধ্য...      0   \n",
       "\n",
       "       fake_para_len     fake_para_index  fake_type  \n",
       "16576              0                  []         -1  \n",
       "13192              1                 [2]          1  \n",
       "77181              0                  []         -1  \n",
       "63457              0                  []         -1  \n",
       "17469              5     [0, 3, 2, 4, 1]          1  \n",
       "...              ...                 ...        ...  \n",
       "10688              3           [2, 0, 4]          3  \n",
       "28300              0                  []         -1  \n",
       "22918              6  [3, 2, 5, 1, 0, 4]          3  \n",
       "82807              0                  []         -1  \n",
       "3822               0                  []         -1  \n",
       "\n",
       "[6000 rows x 7 columns]"
      ]
     },
     "execution_count": 126,
     "metadata": {},
     "output_type": "execute_result"
    }
   ],
   "source": [
    "dev"
   ]
  },
  {
   "cell_type": "code",
   "execution_count": 127,
   "metadata": {
    "execution": {
     "iopub.execute_input": "2021-08-05T08:22:34.899832Z",
     "iopub.status.busy": "2021-08-05T08:22:34.899456Z",
     "iopub.status.idle": "2021-08-05T08:22:53.097353Z",
     "shell.execute_reply": "2021-08-05T08:22:53.096267Z",
     "shell.execute_reply.started": "2021-08-05T08:22:34.899799Z"
    }
   },
   "outputs": [],
   "source": [
    "train.to_csv('train.tsv',sep='\\t',header=False,index=False)\n",
    "test.to_csv('test.tsv',sep='\\t',header=False,index=False)\n",
    "dev.to_csv('dev.tsv',sep='\\t',header=False,index=False)"
   ]
  },
  {
   "cell_type": "code",
   "execution_count": null,
   "metadata": {},
   "outputs": [],
   "source": []
  },
  {
   "cell_type": "code",
   "execution_count": null,
   "metadata": {},
   "outputs": [],
   "source": []
  }
 ],
 "metadata": {
  "kernelspec": {
   "display_name": "Python 3",
   "language": "python",
   "name": "python3"
  },
  "language_info": {
   "codemirror_mode": {
    "name": "ipython",
    "version": 3
   },
   "file_extension": ".py",
   "mimetype": "text/x-python",
   "name": "python",
   "nbconvert_exporter": "python",
   "pygments_lexer": "ipython3",
   "version": "3.8.5"
  }
 },
 "nbformat": 4,
 "nbformat_minor": 4
}
